{
  "nbformat": 4,
  "nbformat_minor": 0,
  "metadata": {
    "colab": {
      "name": "00_wikidata_dl.ipynb",
      "provenance": [],
      "collapsed_sections": [],
      "mount_file_id": "1cUqKjNGD3yA-8KGKFKKYxPOr6r8eUyLt",
      "authorship_tag": "ABX9TyPD+wMXLZTA3ug/HCbr+5o6",
      "include_colab_link": true
    },
    "kernelspec": {
      "name": "python3",
      "display_name": "Python 3"
    },
    "language_info": {
      "name": "python"
    },
    "widgets": {
      "application/vnd.jupyter.widget-state+json": {
        "b9cf20ec948e4abea61110c9aa4bcef6": {
          "model_module": "@jupyter-widgets/controls",
          "model_name": "HBoxModel",
          "state": {
            "_view_name": "HBoxView",
            "_dom_classes": [],
            "_model_name": "HBoxModel",
            "_view_module": "@jupyter-widgets/controls",
            "_model_module_version": "1.5.0",
            "_view_count": null,
            "_view_module_version": "1.5.0",
            "box_style": "",
            "layout": "IPY_MODEL_01dcd1792e1b439cb4584190f2f5a682",
            "_model_module": "@jupyter-widgets/controls",
            "children": [
              "IPY_MODEL_09d8a3e506344d35a76a6e7069c5d960",
              "IPY_MODEL_c6c11cd228c24b5f9d0670483dbf2842"
            ]
          }
        },
        "01dcd1792e1b439cb4584190f2f5a682": {
          "model_module": "@jupyter-widgets/base",
          "model_name": "LayoutModel",
          "state": {
            "_view_name": "LayoutView",
            "grid_template_rows": null,
            "right": null,
            "justify_content": null,
            "_view_module": "@jupyter-widgets/base",
            "overflow": null,
            "_model_module_version": "1.2.0",
            "_view_count": null,
            "flex_flow": null,
            "width": null,
            "min_width": null,
            "border": null,
            "align_items": null,
            "bottom": null,
            "_model_module": "@jupyter-widgets/base",
            "top": null,
            "grid_column": null,
            "overflow_y": null,
            "overflow_x": null,
            "grid_auto_flow": null,
            "grid_area": null,
            "grid_template_columns": null,
            "flex": null,
            "_model_name": "LayoutModel",
            "justify_items": null,
            "grid_row": null,
            "max_height": null,
            "align_content": null,
            "visibility": null,
            "align_self": null,
            "height": null,
            "min_height": null,
            "padding": null,
            "grid_auto_rows": null,
            "grid_gap": null,
            "max_width": null,
            "order": null,
            "_view_module_version": "1.2.0",
            "grid_template_areas": null,
            "object_position": null,
            "object_fit": null,
            "grid_auto_columns": null,
            "margin": null,
            "display": null,
            "left": null
          }
        },
        "09d8a3e506344d35a76a6e7069c5d960": {
          "model_module": "@jupyter-widgets/controls",
          "model_name": "FloatProgressModel",
          "state": {
            "_view_name": "ProgressView",
            "style": "IPY_MODEL_58c7d82fe0e645cfb92843a54a7f2a5f",
            "_dom_classes": [],
            "description": "",
            "_model_name": "FloatProgressModel",
            "bar_style": "success",
            "max": 1,
            "_view_module": "@jupyter-widgets/controls",
            "_model_module_version": "1.5.0",
            "value": 1,
            "_view_count": null,
            "_view_module_version": "1.5.0",
            "orientation": "horizontal",
            "min": 0,
            "description_tooltip": null,
            "_model_module": "@jupyter-widgets/controls",
            "layout": "IPY_MODEL_742011d20783441a8cde9b0d1bb05717"
          }
        },
        "c6c11cd228c24b5f9d0670483dbf2842": {
          "model_module": "@jupyter-widgets/controls",
          "model_name": "HTMLModel",
          "state": {
            "_view_name": "HTMLView",
            "style": "IPY_MODEL_66edb01482b548ed9b7a8f350530442b",
            "_dom_classes": [],
            "description": "",
            "_model_name": "HTMLModel",
            "placeholder": "​",
            "_view_module": "@jupyter-widgets/controls",
            "_model_module_version": "1.5.0",
            "value": " 1/0 [00:06&lt;00:00,  6.93s/it]",
            "_view_count": null,
            "_view_module_version": "1.5.0",
            "description_tooltip": null,
            "_model_module": "@jupyter-widgets/controls",
            "layout": "IPY_MODEL_1cf57ef57cb14458b5357bc549be2ec4"
          }
        },
        "58c7d82fe0e645cfb92843a54a7f2a5f": {
          "model_module": "@jupyter-widgets/controls",
          "model_name": "ProgressStyleModel",
          "state": {
            "_view_name": "StyleView",
            "_model_name": "ProgressStyleModel",
            "description_width": "initial",
            "_view_module": "@jupyter-widgets/base",
            "_model_module_version": "1.5.0",
            "_view_count": null,
            "_view_module_version": "1.2.0",
            "bar_color": null,
            "_model_module": "@jupyter-widgets/controls"
          }
        },
        "742011d20783441a8cde9b0d1bb05717": {
          "model_module": "@jupyter-widgets/base",
          "model_name": "LayoutModel",
          "state": {
            "_view_name": "LayoutView",
            "grid_template_rows": null,
            "right": null,
            "justify_content": null,
            "_view_module": "@jupyter-widgets/base",
            "overflow": null,
            "_model_module_version": "1.2.0",
            "_view_count": null,
            "flex_flow": null,
            "width": null,
            "min_width": null,
            "border": null,
            "align_items": null,
            "bottom": null,
            "_model_module": "@jupyter-widgets/base",
            "top": null,
            "grid_column": null,
            "overflow_y": null,
            "overflow_x": null,
            "grid_auto_flow": null,
            "grid_area": null,
            "grid_template_columns": null,
            "flex": null,
            "_model_name": "LayoutModel",
            "justify_items": null,
            "grid_row": null,
            "max_height": null,
            "align_content": null,
            "visibility": null,
            "align_self": null,
            "height": null,
            "min_height": null,
            "padding": null,
            "grid_auto_rows": null,
            "grid_gap": null,
            "max_width": null,
            "order": null,
            "_view_module_version": "1.2.0",
            "grid_template_areas": null,
            "object_position": null,
            "object_fit": null,
            "grid_auto_columns": null,
            "margin": null,
            "display": null,
            "left": null
          }
        },
        "66edb01482b548ed9b7a8f350530442b": {
          "model_module": "@jupyter-widgets/controls",
          "model_name": "DescriptionStyleModel",
          "state": {
            "_view_name": "StyleView",
            "_model_name": "DescriptionStyleModel",
            "description_width": "",
            "_view_module": "@jupyter-widgets/base",
            "_model_module_version": "1.5.0",
            "_view_count": null,
            "_view_module_version": "1.2.0",
            "_model_module": "@jupyter-widgets/controls"
          }
        },
        "1cf57ef57cb14458b5357bc549be2ec4": {
          "model_module": "@jupyter-widgets/base",
          "model_name": "LayoutModel",
          "state": {
            "_view_name": "LayoutView",
            "grid_template_rows": null,
            "right": null,
            "justify_content": null,
            "_view_module": "@jupyter-widgets/base",
            "overflow": null,
            "_model_module_version": "1.2.0",
            "_view_count": null,
            "flex_flow": null,
            "width": null,
            "min_width": null,
            "border": null,
            "align_items": null,
            "bottom": null,
            "_model_module": "@jupyter-widgets/base",
            "top": null,
            "grid_column": null,
            "overflow_y": null,
            "overflow_x": null,
            "grid_auto_flow": null,
            "grid_area": null,
            "grid_template_columns": null,
            "flex": null,
            "_model_name": "LayoutModel",
            "justify_items": null,
            "grid_row": null,
            "max_height": null,
            "align_content": null,
            "visibility": null,
            "align_self": null,
            "height": null,
            "min_height": null,
            "padding": null,
            "grid_auto_rows": null,
            "grid_gap": null,
            "max_width": null,
            "order": null,
            "_view_module_version": "1.2.0",
            "grid_template_areas": null,
            "object_position": null,
            "object_fit": null,
            "grid_auto_columns": null,
            "margin": null,
            "display": null,
            "left": null
          }
        }
      }
    }
  },
  "cells": [
    {
      "cell_type": "markdown",
      "metadata": {
        "id": "view-in-github",
        "colab_type": "text"
      },
      "source": [
        "<a href=\"https://colab.research.google.com/github/davanstrien/people-iiif/blob/main/00_wikidata_dl.ipynb\" target=\"_parent\"><img src=\"https://colab.research.google.com/assets/colab-badge.svg\" alt=\"Open In Colab\"/></a>"
      ]
    },
    {
      "cell_type": "code",
      "metadata": {
        "colab": {
          "base_uri": "https://localhost:8080/"
        },
        "id": "H7CmrUtEz-KC",
        "outputId": "134a8216-5531-4542-ad18-731ade6c7491"
      },
      "source": [
        "!pip install httpx loguru fastcore sparqlwrapper tqdm"
      ],
      "execution_count": 1,
      "outputs": [
        {
          "output_type": "stream",
          "text": [
            "Collecting httpx\n",
            "\u001b[?25l  Downloading https://files.pythonhosted.org/packages/6f/87/241b482701ba3d58831a4af50bf2880259dc7c11a89504a3b0d70fa298cd/httpx-0.17.1-py3-none-any.whl (68kB)\n",
            "\u001b[K     |████████████████████████████████| 71kB 5.3MB/s \n",
            "\u001b[?25hCollecting loguru\n",
            "\u001b[?25l  Downloading https://files.pythonhosted.org/packages/6d/48/0a7d5847e3de329f1d0134baf707b689700b53bd3066a5a8cfd94b3c9fc8/loguru-0.5.3-py3-none-any.whl (57kB)\n",
            "\u001b[K     |████████████████████████████████| 61kB 4.2MB/s \n",
            "\u001b[?25hCollecting fastcore\n",
            "\u001b[?25l  Downloading https://files.pythonhosted.org/packages/0c/98/60404e2817cff113a6ae4023bc1772e23179408fdf7857fa410551758dfe/fastcore-1.3.19-py3-none-any.whl (53kB)\n",
            "\u001b[K     |████████████████████████████████| 61kB 7.2MB/s \n",
            "\u001b[?25hCollecting sparqlwrapper\n",
            "  Downloading https://files.pythonhosted.org/packages/00/9b/443fbe06996c080ee9c1f01b04e2f683b2b07e149905f33a2397ee3b80a2/SPARQLWrapper-1.8.5-py3-none-any.whl\n",
            "Requirement already satisfied: tqdm in /usr/local/lib/python3.7/dist-packages (4.41.1)\n",
            "Requirement already satisfied: certifi in /usr/local/lib/python3.7/dist-packages (from httpx) (2020.12.5)\n",
            "Collecting sniffio\n",
            "  Downloading https://files.pythonhosted.org/packages/52/b0/7b2e028b63d092804b6794595871f936aafa5e9322dcaaad50ebf67445b3/sniffio-1.2.0-py3-none-any.whl\n",
            "Collecting rfc3986[idna2008]<2,>=1.3\n",
            "  Downloading https://files.pythonhosted.org/packages/78/be/7b8b99fd74ff5684225f50dd0e865393d2265656ef3b4ba9eaaaffe622b8/rfc3986-1.4.0-py2.py3-none-any.whl\n",
            "Collecting httpcore<0.13,>=0.12.1\n",
            "\u001b[?25l  Downloading https://files.pythonhosted.org/packages/50/ce/544244e2145075896d38f7db3e822c24d1be9f7966ed3d83f158e388d195/httpcore-0.12.3-py3-none-any.whl (55kB)\n",
            "\u001b[K     |████████████████████████████████| 61kB 6.7MB/s \n",
            "\u001b[?25hRequirement already satisfied: pip in /usr/local/lib/python3.7/dist-packages (from fastcore) (19.3.1)\n",
            "Requirement already satisfied: packaging in /usr/local/lib/python3.7/dist-packages (from fastcore) (20.9)\n",
            "Collecting rdflib>=4.0\n",
            "\u001b[?25l  Downloading https://files.pythonhosted.org/packages/d0/6b/6454aa1db753c0f8bc265a5bd5c10b5721a4bb24160fb4faf758cf6be8a1/rdflib-5.0.0-py3-none-any.whl (231kB)\n",
            "\u001b[K     |████████████████████████████████| 235kB 48.5MB/s \n",
            "\u001b[?25hRequirement already satisfied: idna; extra == \"idna2008\" in /usr/local/lib/python3.7/dist-packages (from rfc3986[idna2008]<2,>=1.3->httpx) (2.10)\n",
            "Collecting h11==0.*\n",
            "\u001b[?25l  Downloading https://files.pythonhosted.org/packages/60/0f/7a0eeea938eaf61074f29fed9717f2010e8d0e0905d36b38d3275a1e4622/h11-0.12.0-py3-none-any.whl (54kB)\n",
            "\u001b[K     |████████████████████████████████| 61kB 7.9MB/s \n",
            "\u001b[?25hRequirement already satisfied: pyparsing>=2.0.2 in /usr/local/lib/python3.7/dist-packages (from packaging->fastcore) (2.4.7)\n",
            "Requirement already satisfied: six in /usr/local/lib/python3.7/dist-packages (from rdflib>=4.0->sparqlwrapper) (1.15.0)\n",
            "Collecting isodate\n",
            "\u001b[?25l  Downloading https://files.pythonhosted.org/packages/9b/9f/b36f7774ff5ea8e428fdcfc4bb332c39ee5b9362ddd3d40d9516a55221b2/isodate-0.6.0-py2.py3-none-any.whl (45kB)\n",
            "\u001b[K     |████████████████████████████████| 51kB 6.7MB/s \n",
            "\u001b[?25hInstalling collected packages: sniffio, rfc3986, h11, httpcore, httpx, loguru, fastcore, isodate, rdflib, sparqlwrapper\n",
            "Successfully installed fastcore-1.3.19 h11-0.12.0 httpcore-0.12.3 httpx-0.17.1 isodate-0.6.0 loguru-0.5.3 rdflib-5.0.0 rfc3986-1.4.0 sniffio-1.2.0 sparqlwrapper-1.8.5\n"
          ],
          "name": "stdout"
        }
      ]
    },
    {
      "cell_type": "markdown",
      "metadata": {
        "id": "YkYkqzaIAt6G"
      },
      "source": [
        "```sql\n",
        "# ?theme ?themeLabel ?tgm ?item ?itemLabel ?url\n",
        "select ?themeLabel ?tgm ?url {\n",
        "  # Get themes that have LTGCM subject headings\n",
        "  ?theme wdt:P5160 ?tgm .\n",
        "  # Get the items that dipict the theme\n",
        "  ?item wdt:P180 ?theme .\n",
        "  # limit to Photographs\n",
        "  ?item wdt:P31 wd:Q125191 .\n",
        "  # Image url P6108\n",
        "  ?item wdt:P18 ?url\n",
        "  SERVICE wikibase:label {\n",
        "    bd:serviceParam wikibase:language \"en\" .\n",
        "   }\n",
        "}\n",
        "```"
      ]
    },
    {
      "cell_type": "code",
      "metadata": {
        "id": "6h6CcC5hzQD_"
      },
      "source": [
        "import pandas as pd\n",
        "import httpx\n",
        "import io\n",
        "from pathlib import Path\n",
        "from fastcore.all import *\n",
        "from PIL import Image\n",
        "import hashlib\n",
        "from loguru import logger\n",
        "\n",
        "import sys\n",
        "from SPARQLWrapper import SPARQLWrapper, JSON"
      ],
      "execution_count": 2,
      "outputs": []
    },
    {
      "cell_type": "code",
      "metadata": {
        "colab": {
          "base_uri": "https://localhost:8080/"
        },
        "id": "gNVpjjfob_jz",
        "outputId": "d85df30b-04f0-4e17-c29f-d693e7d69f26"
      },
      "source": [
        "from tqdm.notebook import tqdm\n",
        "tqdm.pandas()"
      ],
      "execution_count": 3,
      "outputs": [
        {
          "output_type": "stream",
          "text": [
            "/usr/local/lib/python3.7/dist-packages/tqdm/std.py:658: FutureWarning: The Panel class is removed from pandas. Accessing it from the top-level namespace will also be removed in the next version\n",
            "  from pandas import Panel\n"
          ],
          "name": "stderr"
        }
      ]
    },
    {
      "cell_type": "code",
      "metadata": {
        "id": "bWkNfm74HjGI"
      },
      "source": [
        "path = Path('/content/drive/MyDrive/IIIF_AI_project')"
      ],
      "execution_count": 4,
      "outputs": []
    },
    {
      "cell_type": "code",
      "metadata": {
        "id": "oYAf75DkDHuL"
      },
      "source": [
        "endpoint_url = \"https://query.wikidata.org/sparql\"\n",
        "\n",
        "endpoint_url = \"https://query.wikidata.org/sparql\"\n",
        "\n",
        "query = \"\"\"# ?theme ?themeLabel ?tgm ?item ?itemLabel ?url\n",
        "select ?themeLabel ?tgm ?url where {\n",
        "  # Get themes that have LTGCM subject headings\n",
        "  ?theme wdt:P5160 ?tgm .\n",
        "  # Get the items that dipict the theme\n",
        "  ?item wdt:P180 ?theme .\n",
        "  # limit to Photographs\n",
        "  ?item wdt:P31 wd:Q125191 .\n",
        "  # Image url P6108\n",
        "  ?item wdt:P18 ?url\n",
        "  SERVICE wikibase:label {\n",
        "    bd:serviceParam wikibase:language \"en\" .\n",
        "   }\n",
        "}  order by desc(?count) \"\"\"\n",
        "\n",
        "\n",
        "def get_results(endpoint_url, query):\n",
        "    user_agent = \"WDQS-example Python/%s.%s\" % (sys.version_info[0], sys.version_info[1])\n",
        "    # TODO adjust user agent; see https://w.wiki/CX6\n",
        "    sparql = SPARQLWrapper(endpoint_url, agent=user_agent)\n",
        "    sparql.setQuery(query)\n",
        "    sparql.setReturnFormat(JSON)\n",
        "    return sparql.query().convert()\n",
        "\n",
        "\n",
        "results = get_results(endpoint_url, query)\n"
      ],
      "execution_count": 5,
      "outputs": []
    },
    {
      "cell_type": "code",
      "metadata": {
        "id": "PeIpCqJbzSxQ"
      },
      "source": [
        "df = pd.DataFrame.from_dict(results[\"results\"][\"bindings\"])"
      ],
      "execution_count": 51,
      "outputs": []
    },
    {
      "cell_type": "code",
      "metadata": {
        "id": "UXVuw2aYzf5_"
      },
      "source": [
        "df['tgm'] = df['tgm'].str['value']"
      ],
      "execution_count": 52,
      "outputs": []
    },
    {
      "cell_type": "code",
      "metadata": {
        "id": "WzzW7imTG-ZA"
      },
      "source": [
        "df['themeLabel'] = df['themeLabel'].str['value']"
      ],
      "execution_count": 53,
      "outputs": []
    },
    {
      "cell_type": "code",
      "metadata": {
        "id": "vCzRLnH3HcC-"
      },
      "source": [
        "df['url' ] = df['url'].str['value']"
      ],
      "execution_count": 54,
      "outputs": []
    },
    {
      "cell_type": "code",
      "metadata": {
        "id": "piphSlSJ4bzW"
      },
      "source": [
        "df['urlhash'] = pd.util.hash_pandas_object(df.url, index=False)"
      ],
      "execution_count": 55,
      "outputs": []
    },
    {
      "cell_type": "code",
      "metadata": {
        "colab": {
          "base_uri": "https://localhost:8080/",
          "height": 424
        },
        "id": "RGhCDPzxL3DK",
        "outputId": "d366a13d-0a52-4133-ce8f-6e9da5658a9b"
      },
      "source": [
        "df"
      ],
      "execution_count": 56,
      "outputs": [
        {
          "output_type": "execute_result",
          "data": {
            "text/html": [
              "<div>\n",
              "<style scoped>\n",
              "    .dataframe tbody tr th:only-of-type {\n",
              "        vertical-align: middle;\n",
              "    }\n",
              "\n",
              "    .dataframe tbody tr th {\n",
              "        vertical-align: top;\n",
              "    }\n",
              "\n",
              "    .dataframe thead th {\n",
              "        text-align: right;\n",
              "    }\n",
              "</style>\n",
              "<table border=\"1\" class=\"dataframe\">\n",
              "  <thead>\n",
              "    <tr style=\"text-align: right;\">\n",
              "      <th></th>\n",
              "      <th>tgm</th>\n",
              "      <th>themeLabel</th>\n",
              "      <th>url</th>\n",
              "      <th>urlhash</th>\n",
              "    </tr>\n",
              "  </thead>\n",
              "  <tbody>\n",
              "    <tr>\n",
              "      <th>0</th>\n",
              "      <td>tgm009985</td>\n",
              "      <td>sport</td>\n",
              "      <td>http://commons.wikimedia.org/wiki/Special:File...</td>\n",
              "      <td>8213152228518742662</td>\n",
              "    </tr>\n",
              "    <tr>\n",
              "      <th>1</th>\n",
              "      <td>tgm009985</td>\n",
              "      <td>sport</td>\n",
              "      <td>http://commons.wikimedia.org/wiki/Special:File...</td>\n",
              "      <td>4004049890319824358</td>\n",
              "    </tr>\n",
              "    <tr>\n",
              "      <th>2</th>\n",
              "      <td>tgm009985</td>\n",
              "      <td>sport</td>\n",
              "      <td>http://commons.wikimedia.org/wiki/Special:File...</td>\n",
              "      <td>10632294988152710640</td>\n",
              "    </tr>\n",
              "    <tr>\n",
              "      <th>3</th>\n",
              "      <td>tgm009985</td>\n",
              "      <td>sport</td>\n",
              "      <td>http://commons.wikimedia.org/wiki/Special:File...</td>\n",
              "      <td>52560277270845413</td>\n",
              "    </tr>\n",
              "    <tr>\n",
              "      <th>4</th>\n",
              "      <td>tgm009985</td>\n",
              "      <td>sport</td>\n",
              "      <td>http://commons.wikimedia.org/wiki/Special:File...</td>\n",
              "      <td>8618717754527682585</td>\n",
              "    </tr>\n",
              "    <tr>\n",
              "      <th>...</th>\n",
              "      <td>...</td>\n",
              "      <td>...</td>\n",
              "      <td>...</td>\n",
              "      <td>...</td>\n",
              "    </tr>\n",
              "    <tr>\n",
              "      <th>13819</th>\n",
              "      <td>tgm000686</td>\n",
              "      <td>award</td>\n",
              "      <td>http://commons.wikimedia.org/wiki/Special:File...</td>\n",
              "      <td>6543997110755914170</td>\n",
              "    </tr>\n",
              "    <tr>\n",
              "      <th>13820</th>\n",
              "      <td>tgm003584</td>\n",
              "      <td>work</td>\n",
              "      <td>http://commons.wikimedia.org/wiki/Special:File...</td>\n",
              "      <td>2158356187537040849</td>\n",
              "    </tr>\n",
              "    <tr>\n",
              "      <th>13821</th>\n",
              "      <td>tgm003584</td>\n",
              "      <td>work</td>\n",
              "      <td>http://commons.wikimedia.org/wiki/Special:File...</td>\n",
              "      <td>2470024329174724360</td>\n",
              "    </tr>\n",
              "    <tr>\n",
              "      <th>13822</th>\n",
              "      <td>tgm003584</td>\n",
              "      <td>work</td>\n",
              "      <td>http://commons.wikimedia.org/wiki/Special:File...</td>\n",
              "      <td>10366378009943306727</td>\n",
              "    </tr>\n",
              "    <tr>\n",
              "      <th>13823</th>\n",
              "      <td>tgm002207</td>\n",
              "      <td>coachman</td>\n",
              "      <td>http://commons.wikimedia.org/wiki/Special:File...</td>\n",
              "      <td>4983334255754292679</td>\n",
              "    </tr>\n",
              "  </tbody>\n",
              "</table>\n",
              "<p>13824 rows × 4 columns</p>\n",
              "</div>"
            ],
            "text/plain": [
              "             tgm  ...               urlhash\n",
              "0      tgm009985  ...   8213152228518742662\n",
              "1      tgm009985  ...   4004049890319824358\n",
              "2      tgm009985  ...  10632294988152710640\n",
              "3      tgm009985  ...     52560277270845413\n",
              "4      tgm009985  ...   8618717754527682585\n",
              "...          ...  ...                   ...\n",
              "13819  tgm000686  ...   6543997110755914170\n",
              "13820  tgm003584  ...   2158356187537040849\n",
              "13821  tgm003584  ...   2470024329174724360\n",
              "13822  tgm003584  ...  10366378009943306727\n",
              "13823  tgm002207  ...   4983334255754292679\n",
              "\n",
              "[13824 rows x 4 columns]"
            ]
          },
          "metadata": {
            "tags": []
          },
          "execution_count": 56
        }
      ]
    },
    {
      "cell_type": "code",
      "metadata": {
        "id": "E0sxH_LGZKi4"
      },
      "source": [
        "df.to_csv(path/'wikidata_urls.csv', index=False)"
      ],
      "execution_count": 57,
      "outputs": []
    },
    {
      "cell_type": "code",
      "metadata": {
        "id": "ci0lVtSuHvQz"
      },
      "source": [
        "df.to_json(path/'wikidata_urls.json')"
      ],
      "execution_count": 58,
      "outputs": []
    },
    {
      "cell_type": "code",
      "metadata": {
        "id": "LEAchDPb0X2H"
      },
      "source": [
        "Path(path/'wikidata-images').mkdir(exist_ok=True)"
      ],
      "execution_count": 59,
      "outputs": []
    },
    {
      "cell_type": "code",
      "metadata": {
        "id": "97zuokK_H6eb"
      },
      "source": [
        "save_path = Path(path/'wikidata-images')"
      ],
      "execution_count": 60,
      "outputs": []
    },
    {
      "cell_type": "code",
      "metadata": {
        "colab": {
          "base_uri": "https://localhost:8080/"
        },
        "id": "quY78KedZwI4",
        "outputId": "6009e5ee-c299-4874-cc37-f6d3d704c4a7"
      },
      "source": [
        "df.columns"
      ],
      "execution_count": 61,
      "outputs": [
        {
          "output_type": "execute_result",
          "data": {
            "text/plain": [
              "Index(['tgm', 'themeLabel', 'url', 'urlhash'], dtype='object')"
            ]
          },
          "metadata": {
            "tags": []
          },
          "execution_count": 61
        }
      ]
    },
    {
      "cell_type": "code",
      "metadata": {
        "id": "bnkUiadMW3jW"
      },
      "source": [
        "def download_image(row, path=save_path):\n",
        "    url = row.url\n",
        "    hash = row.urlhash\n",
        "    ext = url.split('.')[-1]\n",
        "    fpath = f'{path}/{hash}.{ext}'\n",
        "    if not Path(fpath).is_file():\n",
        "        try:\n",
        "            r = httpx.get(url, timeout=30)\n",
        "            im = Image.open(io.BytesIO(r.content))\n",
        "            im.save(fpath)\n",
        "            return fpath         \n",
        "        except Exception as e:\n",
        "            logger.exception(e)\n",
        "    else:\n",
        "        pass"
      ],
      "execution_count": 70,
      "outputs": []
    },
    {
      "cell_type": "code",
      "metadata": {
        "colab": {
          "base_uri": "https://localhost:8080/",
          "height": 66,
          "referenced_widgets": [
            "b9cf20ec948e4abea61110c9aa4bcef6",
            "01dcd1792e1b439cb4584190f2f5a682",
            "09d8a3e506344d35a76a6e7069c5d960",
            "c6c11cd228c24b5f9d0670483dbf2842",
            "58c7d82fe0e645cfb92843a54a7f2a5f",
            "742011d20783441a8cde9b0d1bb05717",
            "66edb01482b548ed9b7a8f350530442b",
            "1cf57ef57cb14458b5357bc549be2ec4"
          ]
        },
        "id": "rZudAQyVZ8Y9",
        "outputId": "1da82963-fbb9-4923-e9d0-885963710324"
      },
      "source": [
        "df['dl_fpath'] = df.progress_apply(download_image, axis=1)"
      ],
      "execution_count": 71,
      "outputs": [
        {
          "output_type": "display_data",
          "data": {
            "application/vnd.jupyter.widget-view+json": {
              "model_id": "b9cf20ec948e4abea61110c9aa4bcef6",
              "version_minor": 0,
              "version_major": 2
            },
            "text/plain": [
              "HBox(children=(FloatProgress(value=1.0, bar_style='info', max=1.0), HTML(value='')))"
            ]
          },
          "metadata": {
            "tags": []
          }
        },
        {
          "output_type": "stream",
          "text": [
            "\n"
          ],
          "name": "stdout"
        }
      ]
    },
    {
      "cell_type": "code",
      "metadata": {
        "id": "OpL7KbkkcrhU"
      },
      "source": [
        "df = df[df.dl_fpath.notna()].copy(deep=True)"
      ],
      "execution_count": 72,
      "outputs": []
    },
    {
      "cell_type": "code",
      "metadata": {
        "colab": {
          "base_uri": "https://localhost:8080/",
          "height": 49
        },
        "id": "oHfQko3y9Hpw",
        "outputId": "122fad6c-bea6-4c08-dae3-35f32ddb215f"
      },
      "source": [
        "df"
      ],
      "execution_count": 73,
      "outputs": [
        {
          "output_type": "execute_result",
          "data": {
            "text/html": [
              "<div>\n",
              "<style scoped>\n",
              "    .dataframe tbody tr th:only-of-type {\n",
              "        vertical-align: middle;\n",
              "    }\n",
              "\n",
              "    .dataframe tbody tr th {\n",
              "        vertical-align: top;\n",
              "    }\n",
              "\n",
              "    .dataframe thead th {\n",
              "        text-align: right;\n",
              "    }\n",
              "</style>\n",
              "<table border=\"1\" class=\"dataframe\">\n",
              "  <thead>\n",
              "    <tr style=\"text-align: right;\">\n",
              "      <th></th>\n",
              "      <th>tgm</th>\n",
              "      <th>themeLabel</th>\n",
              "      <th>url</th>\n",
              "      <th>urlhash</th>\n",
              "      <th>dl_fpath</th>\n",
              "    </tr>\n",
              "  </thead>\n",
              "  <tbody>\n",
              "  </tbody>\n",
              "</table>\n",
              "</div>"
            ],
            "text/plain": [
              "Empty DataFrame\n",
              "Columns: [tgm, themeLabel, url, urlhash, dl_fpath]\n",
              "Index: []"
            ]
          },
          "metadata": {
            "tags": []
          },
          "execution_count": 73
        }
      ]
    },
    {
      "cell_type": "code",
      "metadata": {
        "id": "vHUHIeK54cyt"
      },
      "source": [
        "df = df.reset_index(inplace=True)"
      ],
      "execution_count": 46,
      "outputs": []
    },
    {
      "cell_type": "code",
      "metadata": {
        "id": "J7jFpb0DctKT"
      },
      "source": [
        "df.to_csv(path/'wikidata_w_images.csv', index=False)"
      ],
      "execution_count": null,
      "outputs": []
    },
    {
      "cell_type": "code",
      "metadata": {
        "id": "JlOOlDpnzMz5"
      },
      "source": [
        "df.to_json(path/'wikidata_w_images.json')"
      ],
      "execution_count": null,
      "outputs": []
    }
  ]
}