{
  "nbformat": 4,
  "nbformat_minor": 0,
  "metadata": {
    "colab": {
      "name": "01_wikidata_dl_label.ipynb",
      "provenance": [],
      "collapsed_sections": [],
      "mount_file_id": "1cUqKjNGD3yA-8KGKFKKYxPOr6r8eUyLt",
      "authorship_tag": "ABX9TyOMdLmIUP2urwP6dvSibhKk",
      "include_colab_link": true
    },
    "kernelspec": {
      "name": "python3",
      "display_name": "Python 3"
    },
    "language_info": {
      "name": "python"
    },
    "widgets": {
      "application/vnd.jupyter.widget-state+json": {
        "f5461c4f271744d5b97f9e9619b3e84d": {
          "model_module": "@jupyter-widgets/controls",
          "model_name": "HBoxModel",
          "state": {
            "_view_name": "HBoxView",
            "_dom_classes": [],
            "_model_name": "HBoxModel",
            "_view_module": "@jupyter-widgets/controls",
            "_model_module_version": "1.5.0",
            "_view_count": null,
            "_view_module_version": "1.5.0",
            "box_style": "",
            "layout": "IPY_MODEL_4bcfcab655bd4f21a197b6ee03497ab6",
            "_model_module": "@jupyter-widgets/controls",
            "children": [
              "IPY_MODEL_640b68f3e5994f20af6a5b6777a76bfe",
              "IPY_MODEL_bc4c7d28db5e45cfb1f5db89fbcf8a3a"
            ]
          }
        },
        "4bcfcab655bd4f21a197b6ee03497ab6": {
          "model_module": "@jupyter-widgets/base",
          "model_name": "LayoutModel",
          "state": {
            "_view_name": "LayoutView",
            "grid_template_rows": null,
            "right": null,
            "justify_content": null,
            "_view_module": "@jupyter-widgets/base",
            "overflow": null,
            "_model_module_version": "1.2.0",
            "_view_count": null,
            "flex_flow": null,
            "width": null,
            "min_width": null,
            "border": null,
            "align_items": null,
            "bottom": null,
            "_model_module": "@jupyter-widgets/base",
            "top": null,
            "grid_column": null,
            "overflow_y": null,
            "overflow_x": null,
            "grid_auto_flow": null,
            "grid_area": null,
            "grid_template_columns": null,
            "flex": null,
            "_model_name": "LayoutModel",
            "justify_items": null,
            "grid_row": null,
            "max_height": null,
            "align_content": null,
            "visibility": null,
            "align_self": null,
            "height": null,
            "min_height": null,
            "padding": null,
            "grid_auto_rows": null,
            "grid_gap": null,
            "max_width": null,
            "order": null,
            "_view_module_version": "1.2.0",
            "grid_template_areas": null,
            "object_position": null,
            "object_fit": null,
            "grid_auto_columns": null,
            "margin": null,
            "display": null,
            "left": null
          }
        },
        "640b68f3e5994f20af6a5b6777a76bfe": {
          "model_module": "@jupyter-widgets/controls",
          "model_name": "FloatProgressModel",
          "state": {
            "_view_name": "ProgressView",
            "style": "IPY_MODEL_91dbc5b98f534d9b9f8a83869cf21354",
            "_dom_classes": [],
            "description": "100%",
            "_model_name": "FloatProgressModel",
            "bar_style": "success",
            "max": 13824,
            "_view_module": "@jupyter-widgets/controls",
            "_model_module_version": "1.5.0",
            "value": 13824,
            "_view_count": null,
            "_view_module_version": "1.5.0",
            "orientation": "horizontal",
            "min": 0,
            "description_tooltip": null,
            "_model_module": "@jupyter-widgets/controls",
            "layout": "IPY_MODEL_288a1ce344174ccc90b85a70aa684f72"
          }
        },
        "bc4c7d28db5e45cfb1f5db89fbcf8a3a": {
          "model_module": "@jupyter-widgets/controls",
          "model_name": "HTMLModel",
          "state": {
            "_view_name": "HTMLView",
            "style": "IPY_MODEL_835566c8d9c5474ab35ef936d94a6ba5",
            "_dom_classes": [],
            "description": "",
            "_model_name": "HTMLModel",
            "placeholder": "​",
            "_view_module": "@jupyter-widgets/controls",
            "_model_module_version": "1.5.0",
            "value": " 13824/13824 [1:08:15&lt;00:00,  3.38it/s]",
            "_view_count": null,
            "_view_module_version": "1.5.0",
            "description_tooltip": null,
            "_model_module": "@jupyter-widgets/controls",
            "layout": "IPY_MODEL_d65b913c08c64b4aaca6982e0332bbe7"
          }
        },
        "91dbc5b98f534d9b9f8a83869cf21354": {
          "model_module": "@jupyter-widgets/controls",
          "model_name": "ProgressStyleModel",
          "state": {
            "_view_name": "StyleView",
            "_model_name": "ProgressStyleModel",
            "description_width": "initial",
            "_view_module": "@jupyter-widgets/base",
            "_model_module_version": "1.5.0",
            "_view_count": null,
            "_view_module_version": "1.2.0",
            "bar_color": null,
            "_model_module": "@jupyter-widgets/controls"
          }
        },
        "288a1ce344174ccc90b85a70aa684f72": {
          "model_module": "@jupyter-widgets/base",
          "model_name": "LayoutModel",
          "state": {
            "_view_name": "LayoutView",
            "grid_template_rows": null,
            "right": null,
            "justify_content": null,
            "_view_module": "@jupyter-widgets/base",
            "overflow": null,
            "_model_module_version": "1.2.0",
            "_view_count": null,
            "flex_flow": null,
            "width": null,
            "min_width": null,
            "border": null,
            "align_items": null,
            "bottom": null,
            "_model_module": "@jupyter-widgets/base",
            "top": null,
            "grid_column": null,
            "overflow_y": null,
            "overflow_x": null,
            "grid_auto_flow": null,
            "grid_area": null,
            "grid_template_columns": null,
            "flex": null,
            "_model_name": "LayoutModel",
            "justify_items": null,
            "grid_row": null,
            "max_height": null,
            "align_content": null,
            "visibility": null,
            "align_self": null,
            "height": null,
            "min_height": null,
            "padding": null,
            "grid_auto_rows": null,
            "grid_gap": null,
            "max_width": null,
            "order": null,
            "_view_module_version": "1.2.0",
            "grid_template_areas": null,
            "object_position": null,
            "object_fit": null,
            "grid_auto_columns": null,
            "margin": null,
            "display": null,
            "left": null
          }
        },
        "835566c8d9c5474ab35ef936d94a6ba5": {
          "model_module": "@jupyter-widgets/controls",
          "model_name": "DescriptionStyleModel",
          "state": {
            "_view_name": "StyleView",
            "_model_name": "DescriptionStyleModel",
            "description_width": "",
            "_view_module": "@jupyter-widgets/base",
            "_model_module_version": "1.5.0",
            "_view_count": null,
            "_view_module_version": "1.2.0",
            "_model_module": "@jupyter-widgets/controls"
          }
        },
        "d65b913c08c64b4aaca6982e0332bbe7": {
          "model_module": "@jupyter-widgets/base",
          "model_name": "LayoutModel",
          "state": {
            "_view_name": "LayoutView",
            "grid_template_rows": null,
            "right": null,
            "justify_content": null,
            "_view_module": "@jupyter-widgets/base",
            "overflow": null,
            "_model_module_version": "1.2.0",
            "_view_count": null,
            "flex_flow": null,
            "width": null,
            "min_width": null,
            "border": null,
            "align_items": null,
            "bottom": null,
            "_model_module": "@jupyter-widgets/base",
            "top": null,
            "grid_column": null,
            "overflow_y": null,
            "overflow_x": null,
            "grid_auto_flow": null,
            "grid_area": null,
            "grid_template_columns": null,
            "flex": null,
            "_model_name": "LayoutModel",
            "justify_items": null,
            "grid_row": null,
            "max_height": null,
            "align_content": null,
            "visibility": null,
            "align_self": null,
            "height": null,
            "min_height": null,
            "padding": null,
            "grid_auto_rows": null,
            "grid_gap": null,
            "max_width": null,
            "order": null,
            "_view_module_version": "1.2.0",
            "grid_template_areas": null,
            "object_position": null,
            "object_fit": null,
            "grid_auto_columns": null,
            "margin": null,
            "display": null,
            "left": null
          }
        }
      }
    }
  },
  "cells": [
    {
      "cell_type": "markdown",
      "metadata": {
        "id": "view-in-github",
        "colab_type": "text"
      },
      "source": [
        "<a href=\"https://colab.research.google.com/github/davanstrien/people-iiif/blob/main/01_wikidata_dl_label.ipynb\" target=\"_parent\"><img src=\"https://colab.research.google.com/assets/colab-badge.svg\" alt=\"Open In Colab\"/></a>"
      ]
    },
    {
      "cell_type": "code",
      "metadata": {
        "colab": {
          "base_uri": "https://localhost:8080/"
        },
        "id": "H7CmrUtEz-KC",
        "outputId": "67f3abc1-bd0c-4533-c834-747500259b4d"
      },
      "source": [
        "!pip install httpx loguru fastcore sparqlwrapper tqdm"
      ],
      "execution_count": 74,
      "outputs": [
        {
          "output_type": "stream",
          "text": [
            "Requirement already satisfied: httpx in /usr/local/lib/python3.7/dist-packages (0.17.1)\n",
            "Requirement already satisfied: loguru in /usr/local/lib/python3.7/dist-packages (0.5.3)\n",
            "Requirement already satisfied: fastcore in /usr/local/lib/python3.7/dist-packages (1.3.19)\n",
            "Requirement already satisfied: sparqlwrapper in /usr/local/lib/python3.7/dist-packages (1.8.5)\n",
            "Requirement already satisfied: tqdm in /usr/local/lib/python3.7/dist-packages (4.41.1)\n",
            "Requirement already satisfied: httpcore<0.13,>=0.12.1 in /usr/local/lib/python3.7/dist-packages (from httpx) (0.12.3)\n",
            "Requirement already satisfied: sniffio in /usr/local/lib/python3.7/dist-packages (from httpx) (1.2.0)\n",
            "Requirement already satisfied: rfc3986[idna2008]<2,>=1.3 in /usr/local/lib/python3.7/dist-packages (from httpx) (1.4.0)\n",
            "Requirement already satisfied: certifi in /usr/local/lib/python3.7/dist-packages (from httpx) (2020.12.5)\n",
            "Requirement already satisfied: pip in /usr/local/lib/python3.7/dist-packages (from fastcore) (19.3.1)\n",
            "Requirement already satisfied: packaging in /usr/local/lib/python3.7/dist-packages (from fastcore) (20.9)\n",
            "Requirement already satisfied: rdflib>=4.0 in /usr/local/lib/python3.7/dist-packages (from sparqlwrapper) (5.0.0)\n",
            "Requirement already satisfied: h11==0.* in /usr/local/lib/python3.7/dist-packages (from httpcore<0.13,>=0.12.1->httpx) (0.12.0)\n",
            "Requirement already satisfied: idna; extra == \"idna2008\" in /usr/local/lib/python3.7/dist-packages (from rfc3986[idna2008]<2,>=1.3->httpx) (2.10)\n",
            "Requirement already satisfied: pyparsing>=2.0.2 in /usr/local/lib/python3.7/dist-packages (from packaging->fastcore) (2.4.7)\n",
            "Requirement already satisfied: isodate in /usr/local/lib/python3.7/dist-packages (from rdflib>=4.0->sparqlwrapper) (0.6.0)\n",
            "Requirement already satisfied: six in /usr/local/lib/python3.7/dist-packages (from rdflib>=4.0->sparqlwrapper) (1.15.0)\n"
          ],
          "name": "stdout"
        }
      ]
    },
    {
      "cell_type": "markdown",
      "metadata": {
        "id": "YkYkqzaIAt6G"
      },
      "source": [
        "```sql\n",
        "# ?theme ?themeLabel ?tgm ?item ?itemLabel ?url\n",
        "select ?themeLabel ?tgm ?url {\n",
        "  # Get themes that have LTGCM subject headings\n",
        "  ?theme wdt:P5160 ?tgm .\n",
        "  # Get the items that dipict the theme\n",
        "  ?item wdt:P180 ?theme .\n",
        "  # limit to Photographs\n",
        "  ?item wdt:P31 wd:Q125191 .\n",
        "  # Image url P6108\n",
        "  ?item wdt:P18 ?url\n",
        "  SERVICE wikibase:label {\n",
        "    bd:serviceParam wikibase:language \"en\" .\n",
        "   }\n",
        "}\n",
        "```"
      ]
    },
    {
      "cell_type": "code",
      "metadata": {
        "id": "6h6CcC5hzQD_"
      },
      "source": [
        "import pandas as pd\n",
        "import httpx\n",
        "import io\n",
        "from pathlib import Path\n",
        "from fastcore.all import *\n",
        "from PIL import Image\n",
        "import hashlib\n",
        "from loguru import logger\n",
        "\n",
        "import sys\n",
        "from SPARQLWrapper import SPARQLWrapper, JSON"
      ],
      "execution_count": 123,
      "outputs": []
    },
    {
      "cell_type": "code",
      "metadata": {
        "colab": {
          "base_uri": "https://localhost:8080/"
        },
        "id": "gNVpjjfob_jz",
        "outputId": "64d7d7b4-4b82-49c1-e930-8a632c71f063"
      },
      "source": [
        "from tqdm.notebook import tqdm\n",
        "tqdm.pandas()"
      ],
      "execution_count": 124,
      "outputs": [
        {
          "output_type": "stream",
          "text": [
            "/usr/local/lib/python3.7/dist-packages/tqdm/std.py:658: FutureWarning: The Panel class is removed from pandas. Accessing it from the top-level namespace will also be removed in the next version\n",
            "  from pandas import Panel\n"
          ],
          "name": "stderr"
        }
      ]
    },
    {
      "cell_type": "code",
      "metadata": {
        "id": "bWkNfm74HjGI"
      },
      "source": [
        "path = Path('/content/drive/MyDrive/IIIF_AI_project')"
      ],
      "execution_count": 125,
      "outputs": []
    },
    {
      "cell_type": "code",
      "metadata": {
        "id": "oYAf75DkDHuL"
      },
      "source": [
        "endpoint_url = \"https://query.wikidata.org/sparql\"\n",
        "\n",
        "endpoint_url = \"https://query.wikidata.org/sparql\"\n",
        "\n",
        "query = \"\"\"# ?theme ?themeLabel ?tgm ?item ?itemLabel ?url\n",
        "select ?themeLabel ?tgm ?url ?item where {\n",
        "  # Get themes that have LTGCM subject headings\n",
        "  ?theme wdt:P5160 ?tgm .\n",
        "  # Get the items that dipict the theme\n",
        "  ?item wdt:P180 ?theme .\n",
        "  # limit to Photographs\n",
        "  ?item wdt:P31 wd:Q125191 .\n",
        "  # Image url P6108\n",
        "  ?item wdt:P18 ?url\n",
        "  SERVICE wikibase:label {\n",
        "    bd:serviceParam wikibase:language \"en\" .\n",
        "   }\n",
        "}  order by desc(?count) \"\"\"\n",
        "\n",
        "\n",
        "def get_results(endpoint_url, query):\n",
        "    user_agent = \"WDQS-example Python/%s.%s\" % (sys.version_info[0], sys.version_info[1])\n",
        "    # TODO adjust user agent; see https://w.wiki/CX6\n",
        "    sparql = SPARQLWrapper(endpoint_url, agent=user_agent)\n",
        "    sparql.setQuery(query)\n",
        "    sparql.setReturnFormat(JSON)\n",
        "    return sparql.query().convert()\n",
        "\n",
        "\n",
        "results = get_results(endpoint_url, query)\n"
      ],
      "execution_count": 161,
      "outputs": []
    },
    {
      "cell_type": "code",
      "metadata": {
        "id": "PeIpCqJbzSxQ"
      },
      "source": [
        "df = pd.DataFrame.from_dict(results[\"results\"][\"bindings\"])"
      ],
      "execution_count": 186,
      "outputs": []
    },
    {
      "cell_type": "code",
      "metadata": {
        "id": "clM5v-Ldhb-g"
      },
      "source": [
        "df['item'] = df['item'].str['value']"
      ],
      "execution_count": 187,
      "outputs": []
    },
    {
      "cell_type": "code",
      "metadata": {
        "id": "UXVuw2aYzf5_"
      },
      "source": [
        "df['tgm'] = df['tgm'].str['value']"
      ],
      "execution_count": 188,
      "outputs": []
    },
    {
      "cell_type": "code",
      "metadata": {
        "id": "WzzW7imTG-ZA"
      },
      "source": [
        "df['themeLabel'] = df['themeLabel'].str['value']"
      ],
      "execution_count": 189,
      "outputs": []
    },
    {
      "cell_type": "code",
      "metadata": {
        "id": "vCzRLnH3HcC-"
      },
      "source": [
        "df['url' ] = df['url'].str['value']"
      ],
      "execution_count": 190,
      "outputs": []
    },
    {
      "cell_type": "code",
      "metadata": {
        "id": "piphSlSJ4bzW"
      },
      "source": [
        "df['urlhash'] = pd.util.hash_pandas_object(df.url, index=False)"
      ],
      "execution_count": 191,
      "outputs": []
    },
    {
      "cell_type": "code",
      "metadata": {
        "colab": {
          "base_uri": "https://localhost:8080/",
          "height": 424
        },
        "id": "vjDj5QLRxXM0",
        "outputId": "df1a5d5b-6c2e-4b38-c007-cb865042c1ca"
      },
      "source": [
        "df"
      ],
      "execution_count": 192,
      "outputs": [
        {
          "output_type": "execute_result",
          "data": {
            "text/html": [
              "<div>\n",
              "<style scoped>\n",
              "    .dataframe tbody tr th:only-of-type {\n",
              "        vertical-align: middle;\n",
              "    }\n",
              "\n",
              "    .dataframe tbody tr th {\n",
              "        vertical-align: top;\n",
              "    }\n",
              "\n",
              "    .dataframe thead th {\n",
              "        text-align: right;\n",
              "    }\n",
              "</style>\n",
              "<table border=\"1\" class=\"dataframe\">\n",
              "  <thead>\n",
              "    <tr style=\"text-align: right;\">\n",
              "      <th></th>\n",
              "      <th>tgm</th>\n",
              "      <th>item</th>\n",
              "      <th>themeLabel</th>\n",
              "      <th>url</th>\n",
              "      <th>urlhash</th>\n",
              "    </tr>\n",
              "  </thead>\n",
              "  <tbody>\n",
              "    <tr>\n",
              "      <th>0</th>\n",
              "      <td>tgm002065</td>\n",
              "      <td>http://www.wikidata.org/entity/Q29384004</td>\n",
              "      <td>cigarette</td>\n",
              "      <td>http://commons.wikimedia.org/wiki/Special:File...</td>\n",
              "      <td>5476561517036506605</td>\n",
              "    </tr>\n",
              "    <tr>\n",
              "      <th>1</th>\n",
              "      <td>tgm002065</td>\n",
              "      <td>http://www.wikidata.org/entity/Q29578945</td>\n",
              "      <td>cigarette</td>\n",
              "      <td>http://commons.wikimedia.org/wiki/Special:File...</td>\n",
              "      <td>2547666618636415996</td>\n",
              "    </tr>\n",
              "    <tr>\n",
              "      <th>2</th>\n",
              "      <td>tgm002065</td>\n",
              "      <td>http://www.wikidata.org/entity/Q56713789</td>\n",
              "      <td>cigarette</td>\n",
              "      <td>http://commons.wikimedia.org/wiki/Special:File...</td>\n",
              "      <td>3108069741139737998</td>\n",
              "    </tr>\n",
              "    <tr>\n",
              "      <th>3</th>\n",
              "      <td>tgm002065</td>\n",
              "      <td>http://www.wikidata.org/entity/Q56718359</td>\n",
              "      <td>cigarette</td>\n",
              "      <td>http://commons.wikimedia.org/wiki/Special:File...</td>\n",
              "      <td>6536074540519139147</td>\n",
              "    </tr>\n",
              "    <tr>\n",
              "      <th>4</th>\n",
              "      <td>tgm002065</td>\n",
              "      <td>http://www.wikidata.org/entity/Q78123994</td>\n",
              "      <td>cigarette</td>\n",
              "      <td>http://commons.wikimedia.org/wiki/Special:File...</td>\n",
              "      <td>17560400556605834985</td>\n",
              "    </tr>\n",
              "    <tr>\n",
              "      <th>...</th>\n",
              "      <td>...</td>\n",
              "      <td>...</td>\n",
              "      <td>...</td>\n",
              "      <td>...</td>\n",
              "      <td>...</td>\n",
              "    </tr>\n",
              "    <tr>\n",
              "      <th>13819</th>\n",
              "      <td>tgm000686</td>\n",
              "      <td>http://www.wikidata.org/entity/Q75691200</td>\n",
              "      <td>award</td>\n",
              "      <td>http://commons.wikimedia.org/wiki/Special:File...</td>\n",
              "      <td>6543997110755914170</td>\n",
              "    </tr>\n",
              "    <tr>\n",
              "      <th>13820</th>\n",
              "      <td>tgm002207</td>\n",
              "      <td>http://www.wikidata.org/entity/Q78145666</td>\n",
              "      <td>coachman</td>\n",
              "      <td>http://commons.wikimedia.org/wiki/Special:File...</td>\n",
              "      <td>4983334255754292679</td>\n",
              "    </tr>\n",
              "    <tr>\n",
              "      <th>13821</th>\n",
              "      <td>tgm003584</td>\n",
              "      <td>http://www.wikidata.org/entity/Q96181582</td>\n",
              "      <td>work</td>\n",
              "      <td>http://commons.wikimedia.org/wiki/Special:File...</td>\n",
              "      <td>2158356187537040849</td>\n",
              "    </tr>\n",
              "    <tr>\n",
              "      <th>13822</th>\n",
              "      <td>tgm003584</td>\n",
              "      <td>http://www.wikidata.org/entity/Q96803013</td>\n",
              "      <td>work</td>\n",
              "      <td>http://commons.wikimedia.org/wiki/Special:File...</td>\n",
              "      <td>2470024329174724360</td>\n",
              "    </tr>\n",
              "    <tr>\n",
              "      <th>13823</th>\n",
              "      <td>tgm003584</td>\n",
              "      <td>http://www.wikidata.org/entity/Q104213322</td>\n",
              "      <td>work</td>\n",
              "      <td>http://commons.wikimedia.org/wiki/Special:File...</td>\n",
              "      <td>10366378009943306727</td>\n",
              "    </tr>\n",
              "  </tbody>\n",
              "</table>\n",
              "<p>13824 rows × 5 columns</p>\n",
              "</div>"
            ],
            "text/plain": [
              "             tgm  ...               urlhash\n",
              "0      tgm002065  ...   5476561517036506605\n",
              "1      tgm002065  ...   2547666618636415996\n",
              "2      tgm002065  ...   3108069741139737998\n",
              "3      tgm002065  ...   6536074540519139147\n",
              "4      tgm002065  ...  17560400556605834985\n",
              "...          ...  ...                   ...\n",
              "13819  tgm000686  ...   6543997110755914170\n",
              "13820  tgm002207  ...   4983334255754292679\n",
              "13821  tgm003584  ...   2158356187537040849\n",
              "13822  tgm003584  ...   2470024329174724360\n",
              "13823  tgm003584  ...  10366378009943306727\n",
              "\n",
              "[13824 rows x 5 columns]"
            ]
          },
          "metadata": {
            "tags": []
          },
          "execution_count": 192
        }
      ]
    },
    {
      "cell_type": "code",
      "metadata": {
        "colab": {
          "base_uri": "https://localhost:8080/",
          "height": 424
        },
        "id": "L2EpwWvEiDMp",
        "outputId": "03da4511-a1ed-4961-e9c5-ebc5b5386770"
      },
      "source": [
        "df[df.columns].groupby('item')['themeLabel'].apply(lambda x: \";\".join(x)).reset_index()"
      ],
      "execution_count": 197,
      "outputs": [
        {
          "output_type": "execute_result",
          "data": {
            "text/html": [
              "<div>\n",
              "<style scoped>\n",
              "    .dataframe tbody tr th:only-of-type {\n",
              "        vertical-align: middle;\n",
              "    }\n",
              "\n",
              "    .dataframe tbody tr th {\n",
              "        vertical-align: top;\n",
              "    }\n",
              "\n",
              "    .dataframe thead th {\n",
              "        text-align: right;\n",
              "    }\n",
              "</style>\n",
              "<table border=\"1\" class=\"dataframe\">\n",
              "  <thead>\n",
              "    <tr style=\"text-align: right;\">\n",
              "      <th></th>\n",
              "      <th>item</th>\n",
              "      <th>themeLabel</th>\n",
              "    </tr>\n",
              "  </thead>\n",
              "  <tbody>\n",
              "    <tr>\n",
              "      <th>0</th>\n",
              "      <td>http://www.wikidata.org/entity/Q104213111</td>\n",
              "      <td>rain</td>\n",
              "    </tr>\n",
              "    <tr>\n",
              "      <th>1</th>\n",
              "      <td>http://www.wikidata.org/entity/Q104213115</td>\n",
              "      <td>architecture</td>\n",
              "    </tr>\n",
              "    <tr>\n",
              "      <th>2</th>\n",
              "      <td>http://www.wikidata.org/entity/Q104213117</td>\n",
              "      <td>tree</td>\n",
              "    </tr>\n",
              "    <tr>\n",
              "      <th>3</th>\n",
              "      <td>http://www.wikidata.org/entity/Q104213207</td>\n",
              "      <td>chair</td>\n",
              "    </tr>\n",
              "    <tr>\n",
              "      <th>4</th>\n",
              "      <td>http://www.wikidata.org/entity/Q104213209</td>\n",
              "      <td>library;architecture</td>\n",
              "    </tr>\n",
              "    <tr>\n",
              "      <th>...</th>\n",
              "      <td>...</td>\n",
              "      <td>...</td>\n",
              "    </tr>\n",
              "    <tr>\n",
              "      <th>12136</th>\n",
              "      <td>http://www.wikidata.org/entity/Q97989485</td>\n",
              "      <td>railway</td>\n",
              "    </tr>\n",
              "    <tr>\n",
              "      <th>12137</th>\n",
              "      <td>http://www.wikidata.org/entity/Q97989530</td>\n",
              "      <td>railway</td>\n",
              "    </tr>\n",
              "    <tr>\n",
              "      <th>12138</th>\n",
              "      <td>http://www.wikidata.org/entity/Q98823705</td>\n",
              "      <td>portrait</td>\n",
              "    </tr>\n",
              "    <tr>\n",
              "      <th>12139</th>\n",
              "      <td>http://www.wikidata.org/entity/Q98944658</td>\n",
              "      <td>bridge</td>\n",
              "    </tr>\n",
              "    <tr>\n",
              "      <th>12140</th>\n",
              "      <td>http://www.wikidata.org/entity/Q99750511</td>\n",
              "      <td>advertising</td>\n",
              "    </tr>\n",
              "  </tbody>\n",
              "</table>\n",
              "<p>12141 rows × 2 columns</p>\n",
              "</div>"
            ],
            "text/plain": [
              "                                            item            themeLabel\n",
              "0      http://www.wikidata.org/entity/Q104213111                  rain\n",
              "1      http://www.wikidata.org/entity/Q104213115          architecture\n",
              "2      http://www.wikidata.org/entity/Q104213117                  tree\n",
              "3      http://www.wikidata.org/entity/Q104213207                 chair\n",
              "4      http://www.wikidata.org/entity/Q104213209  library;architecture\n",
              "...                                          ...                   ...\n",
              "12136   http://www.wikidata.org/entity/Q97989485               railway\n",
              "12137   http://www.wikidata.org/entity/Q97989530               railway\n",
              "12138   http://www.wikidata.org/entity/Q98823705              portrait\n",
              "12139   http://www.wikidata.org/entity/Q98944658                bridge\n",
              "12140   http://www.wikidata.org/entity/Q99750511           advertising\n",
              "\n",
              "[12141 rows x 2 columns]"
            ]
          },
          "metadata": {
            "tags": []
          },
          "execution_count": 197
        }
      ]
    },
    {
      "cell_type": "code",
      "metadata": {
        "colab": {
          "base_uri": "https://localhost:8080/",
          "height": 424
        },
        "id": "IPeSgsKzyKkb",
        "outputId": "61c80ae7-9ec0-43f9-a475-9f0ac502b040"
      },
      "source": [
        "df"
      ],
      "execution_count": 198,
      "outputs": [
        {
          "output_type": "execute_result",
          "data": {
            "text/html": [
              "<div>\n",
              "<style scoped>\n",
              "    .dataframe tbody tr th:only-of-type {\n",
              "        vertical-align: middle;\n",
              "    }\n",
              "\n",
              "    .dataframe tbody tr th {\n",
              "        vertical-align: top;\n",
              "    }\n",
              "\n",
              "    .dataframe thead th {\n",
              "        text-align: right;\n",
              "    }\n",
              "</style>\n",
              "<table border=\"1\" class=\"dataframe\">\n",
              "  <thead>\n",
              "    <tr style=\"text-align: right;\">\n",
              "      <th></th>\n",
              "      <th>tgm</th>\n",
              "      <th>item</th>\n",
              "      <th>themeLabel</th>\n",
              "      <th>url</th>\n",
              "      <th>urlhash</th>\n",
              "      <th>label</th>\n",
              "    </tr>\n",
              "  </thead>\n",
              "  <tbody>\n",
              "    <tr>\n",
              "      <th>0</th>\n",
              "      <td>tgm002065</td>\n",
              "      <td>http://www.wikidata.org/entity/Q29384004</td>\n",
              "      <td>cigarette</td>\n",
              "      <td>http://commons.wikimedia.org/wiki/Special:File...</td>\n",
              "      <td>5476561517036506605</td>\n",
              "      <td>cigarette</td>\n",
              "    </tr>\n",
              "    <tr>\n",
              "      <th>1</th>\n",
              "      <td>tgm002065</td>\n",
              "      <td>http://www.wikidata.org/entity/Q29578945</td>\n",
              "      <td>cigarette</td>\n",
              "      <td>http://commons.wikimedia.org/wiki/Special:File...</td>\n",
              "      <td>2547666618636415996</td>\n",
              "      <td>cigarette</td>\n",
              "    </tr>\n",
              "    <tr>\n",
              "      <th>2</th>\n",
              "      <td>tgm002065</td>\n",
              "      <td>http://www.wikidata.org/entity/Q56713789</td>\n",
              "      <td>cigarette</td>\n",
              "      <td>http://commons.wikimedia.org/wiki/Special:File...</td>\n",
              "      <td>3108069741139737998</td>\n",
              "      <td>cigarette;portrait</td>\n",
              "    </tr>\n",
              "    <tr>\n",
              "      <th>3</th>\n",
              "      <td>tgm002065</td>\n",
              "      <td>http://www.wikidata.org/entity/Q56718359</td>\n",
              "      <td>cigarette</td>\n",
              "      <td>http://commons.wikimedia.org/wiki/Special:File...</td>\n",
              "      <td>6536074540519139147</td>\n",
              "      <td>cigarette;portrait</td>\n",
              "    </tr>\n",
              "    <tr>\n",
              "      <th>4</th>\n",
              "      <td>tgm002065</td>\n",
              "      <td>http://www.wikidata.org/entity/Q78123994</td>\n",
              "      <td>cigarette</td>\n",
              "      <td>http://commons.wikimedia.org/wiki/Special:File...</td>\n",
              "      <td>17560400556605834985</td>\n",
              "      <td>cigarette</td>\n",
              "    </tr>\n",
              "    <tr>\n",
              "      <th>...</th>\n",
              "      <td>...</td>\n",
              "      <td>...</td>\n",
              "      <td>...</td>\n",
              "      <td>...</td>\n",
              "      <td>...</td>\n",
              "      <td>...</td>\n",
              "    </tr>\n",
              "    <tr>\n",
              "      <th>13819</th>\n",
              "      <td>tgm000686</td>\n",
              "      <td>http://www.wikidata.org/entity/Q75691200</td>\n",
              "      <td>award</td>\n",
              "      <td>http://commons.wikimedia.org/wiki/Special:File...</td>\n",
              "      <td>6543997110755914170</td>\n",
              "      <td>sport;award</td>\n",
              "    </tr>\n",
              "    <tr>\n",
              "      <th>13820</th>\n",
              "      <td>tgm002207</td>\n",
              "      <td>http://www.wikidata.org/entity/Q78145666</td>\n",
              "      <td>coachman</td>\n",
              "      <td>http://commons.wikimedia.org/wiki/Special:File...</td>\n",
              "      <td>4983334255754292679</td>\n",
              "      <td>coachman</td>\n",
              "    </tr>\n",
              "    <tr>\n",
              "      <th>13821</th>\n",
              "      <td>tgm003584</td>\n",
              "      <td>http://www.wikidata.org/entity/Q96181582</td>\n",
              "      <td>work</td>\n",
              "      <td>http://commons.wikimedia.org/wiki/Special:File...</td>\n",
              "      <td>2158356187537040849</td>\n",
              "      <td>work</td>\n",
              "    </tr>\n",
              "    <tr>\n",
              "      <th>13822</th>\n",
              "      <td>tgm003584</td>\n",
              "      <td>http://www.wikidata.org/entity/Q96803013</td>\n",
              "      <td>work</td>\n",
              "      <td>http://commons.wikimedia.org/wiki/Special:File...</td>\n",
              "      <td>2470024329174724360</td>\n",
              "      <td>work</td>\n",
              "    </tr>\n",
              "    <tr>\n",
              "      <th>13823</th>\n",
              "      <td>tgm003584</td>\n",
              "      <td>http://www.wikidata.org/entity/Q104213322</td>\n",
              "      <td>work</td>\n",
              "      <td>http://commons.wikimedia.org/wiki/Special:File...</td>\n",
              "      <td>10366378009943306727</td>\n",
              "      <td>work</td>\n",
              "    </tr>\n",
              "  </tbody>\n",
              "</table>\n",
              "<p>13824 rows × 6 columns</p>\n",
              "</div>"
            ],
            "text/plain": [
              "             tgm  ...               label\n",
              "0      tgm002065  ...           cigarette\n",
              "1      tgm002065  ...           cigarette\n",
              "2      tgm002065  ...  cigarette;portrait\n",
              "3      tgm002065  ...  cigarette;portrait\n",
              "4      tgm002065  ...           cigarette\n",
              "...          ...  ...                 ...\n",
              "13819  tgm000686  ...         sport;award\n",
              "13820  tgm002207  ...            coachman\n",
              "13821  tgm003584  ...                work\n",
              "13822  tgm003584  ...                work\n",
              "13823  tgm003584  ...                work\n",
              "\n",
              "[13824 rows x 6 columns]"
            ]
          },
          "metadata": {
            "tags": []
          },
          "execution_count": 198
        }
      ]
    },
    {
      "cell_type": "code",
      "metadata": {
        "id": "E0sxH_LGZKi4"
      },
      "source": [
        "df.to_csv(path/'wikidata_urls.csv', index=False)"
      ],
      "execution_count": 200,
      "outputs": []
    },
    {
      "cell_type": "code",
      "metadata": {
        "id": "ci0lVtSuHvQz"
      },
      "source": [
        "df.to_json(path/'wikidata_urls.json')"
      ],
      "execution_count": 201,
      "outputs": []
    },
    {
      "cell_type": "code",
      "metadata": {
        "id": "LEAchDPb0X2H"
      },
      "source": [
        "Path(path/'wikidata-images-labels').mkdir(exist_ok=True)"
      ],
      "execution_count": 204,
      "outputs": []
    },
    {
      "cell_type": "code",
      "metadata": {
        "id": "97zuokK_H6eb"
      },
      "source": [
        "save_path = Path(path/'wikidata-images-labels')"
      ],
      "execution_count": 205,
      "outputs": []
    },
    {
      "cell_type": "code",
      "metadata": {
        "id": "bnkUiadMW3jW"
      },
      "source": [
        "def download_image(row, path=save_path):\n",
        "    url = row.url\n",
        "    hash = row.urlhash\n",
        "    ext = url.split('.')[-1]\n",
        "    fpath = f'{path}/{hash}.{ext}'\n",
        "    if not Path(fpath).is_file():\n",
        "        try:\n",
        "            r = httpx.get(url, timeout=30)\n",
        "            im = Image.open(io.BytesIO(r.content))\n",
        "            im.save(fpath)\n",
        "            return fpath         \n",
        "        except Exception as e:\n",
        "            logger.exception(e)\n",
        "    else:\n",
        "        pass"
      ],
      "execution_count": 208,
      "outputs": []
    },
    {
      "cell_type": "code",
      "metadata": {
        "colab": {
          "base_uri": "https://localhost:8080/",
          "height": 66,
          "referenced_widgets": [
            "f5461c4f271744d5b97f9e9619b3e84d",
            "4bcfcab655bd4f21a197b6ee03497ab6",
            "640b68f3e5994f20af6a5b6777a76bfe",
            "bc4c7d28db5e45cfb1f5db89fbcf8a3a",
            "91dbc5b98f534d9b9f8a83869cf21354",
            "288a1ce344174ccc90b85a70aa684f72",
            "835566c8d9c5474ab35ef936d94a6ba5",
            "d65b913c08c64b4aaca6982e0332bbe7"
          ]
        },
        "id": "rZudAQyVZ8Y9",
        "outputId": "c5534511-3cbb-4309-8bd2-505876f86cba"
      },
      "source": [
        "df['dl_fpath'] = df.progress_apply(download_image, axis=1)"
      ],
      "execution_count": 209,
      "outputs": [
        {
          "output_type": "display_data",
          "data": {
            "application/vnd.jupyter.widget-view+json": {
              "model_id": "f5461c4f271744d5b97f9e9619b3e84d",
              "version_minor": 0,
              "version_major": 2
            },
            "text/plain": [
              "HBox(children=(FloatProgress(value=0.0, max=13824.0), HTML(value='')))"
            ]
          },
          "metadata": {
            "tags": []
          }
        },
        {
          "output_type": "stream",
          "text": [
            "\n"
          ],
          "name": "stdout"
        }
      ]
    },
    {
      "cell_type": "code",
      "metadata": {
        "id": "OpL7KbkkcrhU"
      },
      "source": [
        "df = df[df.dl_fpath.notna()].copy(deep=True)"
      ],
      "execution_count": 210,
      "outputs": []
    },
    {
      "cell_type": "code",
      "metadata": {
        "colab": {
          "base_uri": "https://localhost:8080/",
          "height": 597
        },
        "id": "oHfQko3y9Hpw",
        "outputId": "18dafff5-6dbb-42c2-9be4-5fa2aafc78c8"
      },
      "source": [
        "df"
      ],
      "execution_count": 211,
      "outputs": [
        {
          "output_type": "execute_result",
          "data": {
            "text/html": [
              "<div>\n",
              "<style scoped>\n",
              "    .dataframe tbody tr th:only-of-type {\n",
              "        vertical-align: middle;\n",
              "    }\n",
              "\n",
              "    .dataframe tbody tr th {\n",
              "        vertical-align: top;\n",
              "    }\n",
              "\n",
              "    .dataframe thead th {\n",
              "        text-align: right;\n",
              "    }\n",
              "</style>\n",
              "<table border=\"1\" class=\"dataframe\">\n",
              "  <thead>\n",
              "    <tr style=\"text-align: right;\">\n",
              "      <th></th>\n",
              "      <th>tgm</th>\n",
              "      <th>item</th>\n",
              "      <th>themeLabel</th>\n",
              "      <th>url</th>\n",
              "      <th>urlhash</th>\n",
              "      <th>label</th>\n",
              "      <th>dl_fpath</th>\n",
              "    </tr>\n",
              "  </thead>\n",
              "  <tbody>\n",
              "    <tr>\n",
              "      <th>0</th>\n",
              "      <td>tgm002065</td>\n",
              "      <td>http://www.wikidata.org/entity/Q29384004</td>\n",
              "      <td>cigarette</td>\n",
              "      <td>http://commons.wikimedia.org/wiki/Special:File...</td>\n",
              "      <td>5476561517036506605</td>\n",
              "      <td>cigarette</td>\n",
              "      <td>/content/drive/MyDrive/IIIF_AI_project/wikidat...</td>\n",
              "    </tr>\n",
              "    <tr>\n",
              "      <th>1</th>\n",
              "      <td>tgm002065</td>\n",
              "      <td>http://www.wikidata.org/entity/Q29578945</td>\n",
              "      <td>cigarette</td>\n",
              "      <td>http://commons.wikimedia.org/wiki/Special:File...</td>\n",
              "      <td>2547666618636415996</td>\n",
              "      <td>cigarette</td>\n",
              "      <td>/content/drive/MyDrive/IIIF_AI_project/wikidat...</td>\n",
              "    </tr>\n",
              "    <tr>\n",
              "      <th>2</th>\n",
              "      <td>tgm002065</td>\n",
              "      <td>http://www.wikidata.org/entity/Q56713789</td>\n",
              "      <td>cigarette</td>\n",
              "      <td>http://commons.wikimedia.org/wiki/Special:File...</td>\n",
              "      <td>3108069741139737998</td>\n",
              "      <td>cigarette;portrait</td>\n",
              "      <td>/content/drive/MyDrive/IIIF_AI_project/wikidat...</td>\n",
              "    </tr>\n",
              "    <tr>\n",
              "      <th>3</th>\n",
              "      <td>tgm002065</td>\n",
              "      <td>http://www.wikidata.org/entity/Q56718359</td>\n",
              "      <td>cigarette</td>\n",
              "      <td>http://commons.wikimedia.org/wiki/Special:File...</td>\n",
              "      <td>6536074540519139147</td>\n",
              "      <td>cigarette;portrait</td>\n",
              "      <td>/content/drive/MyDrive/IIIF_AI_project/wikidat...</td>\n",
              "    </tr>\n",
              "    <tr>\n",
              "      <th>4</th>\n",
              "      <td>tgm002065</td>\n",
              "      <td>http://www.wikidata.org/entity/Q78123994</td>\n",
              "      <td>cigarette</td>\n",
              "      <td>http://commons.wikimedia.org/wiki/Special:File...</td>\n",
              "      <td>17560400556605834985</td>\n",
              "      <td>cigarette</td>\n",
              "      <td>/content/drive/MyDrive/IIIF_AI_project/wikidat...</td>\n",
              "    </tr>\n",
              "    <tr>\n",
              "      <th>...</th>\n",
              "      <td>...</td>\n",
              "      <td>...</td>\n",
              "      <td>...</td>\n",
              "      <td>...</td>\n",
              "      <td>...</td>\n",
              "      <td>...</td>\n",
              "      <td>...</td>\n",
              "    </tr>\n",
              "    <tr>\n",
              "      <th>13817</th>\n",
              "      <td>tgm000686</td>\n",
              "      <td>http://www.wikidata.org/entity/Q75691041</td>\n",
              "      <td>award</td>\n",
              "      <td>http://commons.wikimedia.org/wiki/Special:File...</td>\n",
              "      <td>18274333717120672795</td>\n",
              "      <td>award</td>\n",
              "      <td>/content/drive/MyDrive/IIIF_AI_project/wikidat...</td>\n",
              "    </tr>\n",
              "    <tr>\n",
              "      <th>13820</th>\n",
              "      <td>tgm002207</td>\n",
              "      <td>http://www.wikidata.org/entity/Q78145666</td>\n",
              "      <td>coachman</td>\n",
              "      <td>http://commons.wikimedia.org/wiki/Special:File...</td>\n",
              "      <td>4983334255754292679</td>\n",
              "      <td>coachman</td>\n",
              "      <td>/content/drive/MyDrive/IIIF_AI_project/wikidat...</td>\n",
              "    </tr>\n",
              "    <tr>\n",
              "      <th>13821</th>\n",
              "      <td>tgm003584</td>\n",
              "      <td>http://www.wikidata.org/entity/Q96181582</td>\n",
              "      <td>work</td>\n",
              "      <td>http://commons.wikimedia.org/wiki/Special:File...</td>\n",
              "      <td>2158356187537040849</td>\n",
              "      <td>work</td>\n",
              "      <td>/content/drive/MyDrive/IIIF_AI_project/wikidat...</td>\n",
              "    </tr>\n",
              "    <tr>\n",
              "      <th>13822</th>\n",
              "      <td>tgm003584</td>\n",
              "      <td>http://www.wikidata.org/entity/Q96803013</td>\n",
              "      <td>work</td>\n",
              "      <td>http://commons.wikimedia.org/wiki/Special:File...</td>\n",
              "      <td>2470024329174724360</td>\n",
              "      <td>work</td>\n",
              "      <td>/content/drive/MyDrive/IIIF_AI_project/wikidat...</td>\n",
              "    </tr>\n",
              "    <tr>\n",
              "      <th>13823</th>\n",
              "      <td>tgm003584</td>\n",
              "      <td>http://www.wikidata.org/entity/Q104213322</td>\n",
              "      <td>work</td>\n",
              "      <td>http://commons.wikimedia.org/wiki/Special:File...</td>\n",
              "      <td>10366378009943306727</td>\n",
              "      <td>work</td>\n",
              "      <td>/content/drive/MyDrive/IIIF_AI_project/wikidat...</td>\n",
              "    </tr>\n",
              "  </tbody>\n",
              "</table>\n",
              "<p>12150 rows × 7 columns</p>\n",
              "</div>"
            ],
            "text/plain": [
              "             tgm  ...                                           dl_fpath\n",
              "0      tgm002065  ...  /content/drive/MyDrive/IIIF_AI_project/wikidat...\n",
              "1      tgm002065  ...  /content/drive/MyDrive/IIIF_AI_project/wikidat...\n",
              "2      tgm002065  ...  /content/drive/MyDrive/IIIF_AI_project/wikidat...\n",
              "3      tgm002065  ...  /content/drive/MyDrive/IIIF_AI_project/wikidat...\n",
              "4      tgm002065  ...  /content/drive/MyDrive/IIIF_AI_project/wikidat...\n",
              "...          ...  ...                                                ...\n",
              "13817  tgm000686  ...  /content/drive/MyDrive/IIIF_AI_project/wikidat...\n",
              "13820  tgm002207  ...  /content/drive/MyDrive/IIIF_AI_project/wikidat...\n",
              "13821  tgm003584  ...  /content/drive/MyDrive/IIIF_AI_project/wikidat...\n",
              "13822  tgm003584  ...  /content/drive/MyDrive/IIIF_AI_project/wikidat...\n",
              "13823  tgm003584  ...  /content/drive/MyDrive/IIIF_AI_project/wikidat...\n",
              "\n",
              "[12150 rows x 7 columns]"
            ]
          },
          "metadata": {
            "tags": []
          },
          "execution_count": 211
        }
      ]
    },
    {
      "cell_type": "code",
      "metadata": {
        "id": "vHUHIeK54cyt"
      },
      "source": [
        "df.reset_index(inplace=True)"
      ],
      "execution_count": 46,
      "outputs": []
    },
    {
      "cell_type": "code",
      "metadata": {
        "id": "J7jFpb0DctKT"
      },
      "source": [
        "df.to_csv(path/'wikidata_w_image-labels.csv', index=False)"
      ],
      "execution_count": 218,
      "outputs": []
    },
    {
      "cell_type": "code",
      "metadata": {
        "id": "JlOOlDpnzMz5"
      },
      "source": [
        "df.to_json(path/'wikidata_w_image-labels.json')"
      ],
      "execution_count": 214,
      "outputs": []
    },
    {
      "cell_type": "code",
      "metadata": {
        "id": "_CraW_FlDNOX"
      },
      "source": [
        ""
      ],
      "execution_count": null,
      "outputs": []
    }
  ]
}