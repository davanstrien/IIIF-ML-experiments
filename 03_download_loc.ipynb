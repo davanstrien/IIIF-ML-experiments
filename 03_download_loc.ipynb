{
  "nbformat": 4,
  "nbformat_minor": 0,
  "metadata": {
    "colab": {
      "name": "03_download_loc.ipynb",
      "provenance": [],
      "collapsed_sections": [],
      "mount_file_id": "15WpHMi2AHlJVAuZCBjzqeO1kC3MoFzWz",
      "authorship_tag": "ABX9TyODg03+X0NYdhoQ3YaVc4us",
      "include_colab_link": true
    },
    "kernelspec": {
      "name": "python3",
      "display_name": "Python 3"
    },
    "language_info": {
      "name": "python"
    },
    "widgets": {
      "application/vnd.jupyter.widget-state+json": {
        "7320d4632917409eb0c47e24dfa86b01": {
          "model_module": "@jupyter-widgets/controls",
          "model_name": "HBoxModel",
          "state": {
            "_view_name": "HBoxView",
            "_dom_classes": [],
            "_model_name": "HBoxModel",
            "_view_module": "@jupyter-widgets/controls",
            "_model_module_version": "1.5.0",
            "_view_count": null,
            "_view_module_version": "1.5.0",
            "box_style": "",
            "layout": "IPY_MODEL_87ed32ff3057404b9f6dcf69e189c90a",
            "_model_module": "@jupyter-widgets/controls",
            "children": [
              "IPY_MODEL_389be546b25a4f80ab2b35ab94cda1e9",
              "IPY_MODEL_2cc46efa58824d4baccd14e74419fe8a",
              "IPY_MODEL_3e4fe08557ad43b5ab93e58a2a1778e7"
            ]
          }
        },
        "87ed32ff3057404b9f6dcf69e189c90a": {
          "model_module": "@jupyter-widgets/base",
          "model_name": "LayoutModel",
          "state": {
            "_view_name": "LayoutView",
            "grid_template_rows": null,
            "right": null,
            "justify_content": null,
            "_view_module": "@jupyter-widgets/base",
            "overflow": null,
            "_model_module_version": "1.2.0",
            "_view_count": null,
            "flex_flow": null,
            "width": null,
            "min_width": null,
            "border": null,
            "align_items": null,
            "bottom": null,
            "_model_module": "@jupyter-widgets/base",
            "top": null,
            "grid_column": null,
            "overflow_y": null,
            "overflow_x": null,
            "grid_auto_flow": null,
            "grid_area": null,
            "grid_template_columns": null,
            "flex": null,
            "_model_name": "LayoutModel",
            "justify_items": null,
            "grid_row": null,
            "max_height": null,
            "align_content": null,
            "visibility": null,
            "align_self": null,
            "height": null,
            "min_height": null,
            "padding": null,
            "grid_auto_rows": null,
            "grid_gap": null,
            "max_width": null,
            "order": null,
            "_view_module_version": "1.2.0",
            "grid_template_areas": null,
            "object_position": null,
            "object_fit": null,
            "grid_auto_columns": null,
            "margin": null,
            "display": null,
            "left": null
          }
        },
        "389be546b25a4f80ab2b35ab94cda1e9": {
          "model_module": "@jupyter-widgets/controls",
          "model_name": "HTMLModel",
          "state": {
            "_view_name": "HTMLView",
            "style": "IPY_MODEL_aacabd98d569441593d945d7072fcf68",
            "_dom_classes": [],
            "description": "",
            "_model_name": "HTMLModel",
            "placeholder": "​",
            "_view_module": "@jupyter-widgets/controls",
            "_model_module_version": "1.5.0",
            "value": "100%",
            "_view_count": null,
            "_view_module_version": "1.5.0",
            "description_tooltip": null,
            "_model_module": "@jupyter-widgets/controls",
            "layout": "IPY_MODEL_abc845575d0a4361abc6fcf4fddba1f6"
          }
        },
        "2cc46efa58824d4baccd14e74419fe8a": {
          "model_module": "@jupyter-widgets/controls",
          "model_name": "FloatProgressModel",
          "state": {
            "_view_name": "ProgressView",
            "style": "IPY_MODEL_aac0af8cc0074438b76ab5f7f52a30c7",
            "_dom_classes": [],
            "description": "",
            "_model_name": "FloatProgressModel",
            "bar_style": "success",
            "max": 72707,
            "_view_module": "@jupyter-widgets/controls",
            "_model_module_version": "1.5.0",
            "value": 72707,
            "_view_count": null,
            "_view_module_version": "1.5.0",
            "orientation": "horizontal",
            "min": 0,
            "description_tooltip": null,
            "_model_module": "@jupyter-widgets/controls",
            "layout": "IPY_MODEL_453eec45ae804449b6c728a68fcb9e9d"
          }
        },
        "3e4fe08557ad43b5ab93e58a2a1778e7": {
          "model_module": "@jupyter-widgets/controls",
          "model_name": "HTMLModel",
          "state": {
            "_view_name": "HTMLView",
            "style": "IPY_MODEL_1cd497ed09904094a94a747d63a7f22f",
            "_dom_classes": [],
            "description": "",
            "_model_name": "HTMLModel",
            "placeholder": "​",
            "_view_module": "@jupyter-widgets/controls",
            "_model_module_version": "1.5.0",
            "value": " 72707/72707 [00:19&lt;00:00, 3897.56it/s]",
            "_view_count": null,
            "_view_module_version": "1.5.0",
            "description_tooltip": null,
            "_model_module": "@jupyter-widgets/controls",
            "layout": "IPY_MODEL_a52d2038cd30404797dbb2be61fce9d2"
          }
        },
        "aacabd98d569441593d945d7072fcf68": {
          "model_module": "@jupyter-widgets/controls",
          "model_name": "DescriptionStyleModel",
          "state": {
            "_view_name": "StyleView",
            "_model_name": "DescriptionStyleModel",
            "description_width": "",
            "_view_module": "@jupyter-widgets/base",
            "_model_module_version": "1.5.0",
            "_view_count": null,
            "_view_module_version": "1.2.0",
            "_model_module": "@jupyter-widgets/controls"
          }
        },
        "abc845575d0a4361abc6fcf4fddba1f6": {
          "model_module": "@jupyter-widgets/base",
          "model_name": "LayoutModel",
          "state": {
            "_view_name": "LayoutView",
            "grid_template_rows": null,
            "right": null,
            "justify_content": null,
            "_view_module": "@jupyter-widgets/base",
            "overflow": null,
            "_model_module_version": "1.2.0",
            "_view_count": null,
            "flex_flow": null,
            "width": null,
            "min_width": null,
            "border": null,
            "align_items": null,
            "bottom": null,
            "_model_module": "@jupyter-widgets/base",
            "top": null,
            "grid_column": null,
            "overflow_y": null,
            "overflow_x": null,
            "grid_auto_flow": null,
            "grid_area": null,
            "grid_template_columns": null,
            "flex": null,
            "_model_name": "LayoutModel",
            "justify_items": null,
            "grid_row": null,
            "max_height": null,
            "align_content": null,
            "visibility": null,
            "align_self": null,
            "height": null,
            "min_height": null,
            "padding": null,
            "grid_auto_rows": null,
            "grid_gap": null,
            "max_width": null,
            "order": null,
            "_view_module_version": "1.2.0",
            "grid_template_areas": null,
            "object_position": null,
            "object_fit": null,
            "grid_auto_columns": null,
            "margin": null,
            "display": null,
            "left": null
          }
        },
        "aac0af8cc0074438b76ab5f7f52a30c7": {
          "model_module": "@jupyter-widgets/controls",
          "model_name": "ProgressStyleModel",
          "state": {
            "_view_name": "StyleView",
            "_model_name": "ProgressStyleModel",
            "description_width": "",
            "_view_module": "@jupyter-widgets/base",
            "_model_module_version": "1.5.0",
            "_view_count": null,
            "_view_module_version": "1.2.0",
            "bar_color": null,
            "_model_module": "@jupyter-widgets/controls"
          }
        },
        "453eec45ae804449b6c728a68fcb9e9d": {
          "model_module": "@jupyter-widgets/base",
          "model_name": "LayoutModel",
          "state": {
            "_view_name": "LayoutView",
            "grid_template_rows": null,
            "right": null,
            "justify_content": null,
            "_view_module": "@jupyter-widgets/base",
            "overflow": null,
            "_model_module_version": "1.2.0",
            "_view_count": null,
            "flex_flow": null,
            "width": null,
            "min_width": null,
            "border": null,
            "align_items": null,
            "bottom": null,
            "_model_module": "@jupyter-widgets/base",
            "top": null,
            "grid_column": null,
            "overflow_y": null,
            "overflow_x": null,
            "grid_auto_flow": null,
            "grid_area": null,
            "grid_template_columns": null,
            "flex": null,
            "_model_name": "LayoutModel",
            "justify_items": null,
            "grid_row": null,
            "max_height": null,
            "align_content": null,
            "visibility": null,
            "align_self": null,
            "height": null,
            "min_height": null,
            "padding": null,
            "grid_auto_rows": null,
            "grid_gap": null,
            "max_width": null,
            "order": null,
            "_view_module_version": "1.2.0",
            "grid_template_areas": null,
            "object_position": null,
            "object_fit": null,
            "grid_auto_columns": null,
            "margin": null,
            "display": null,
            "left": null
          }
        },
        "1cd497ed09904094a94a747d63a7f22f": {
          "model_module": "@jupyter-widgets/controls",
          "model_name": "DescriptionStyleModel",
          "state": {
            "_view_name": "StyleView",
            "_model_name": "DescriptionStyleModel",
            "description_width": "",
            "_view_module": "@jupyter-widgets/base",
            "_model_module_version": "1.5.0",
            "_view_count": null,
            "_view_module_version": "1.2.0",
            "_model_module": "@jupyter-widgets/controls"
          }
        },
        "a52d2038cd30404797dbb2be61fce9d2": {
          "model_module": "@jupyter-widgets/base",
          "model_name": "LayoutModel",
          "state": {
            "_view_name": "LayoutView",
            "grid_template_rows": null,
            "right": null,
            "justify_content": null,
            "_view_module": "@jupyter-widgets/base",
            "overflow": null,
            "_model_module_version": "1.2.0",
            "_view_count": null,
            "flex_flow": null,
            "width": null,
            "min_width": null,
            "border": null,
            "align_items": null,
            "bottom": null,
            "_model_module": "@jupyter-widgets/base",
            "top": null,
            "grid_column": null,
            "overflow_y": null,
            "overflow_x": null,
            "grid_auto_flow": null,
            "grid_area": null,
            "grid_template_columns": null,
            "flex": null,
            "_model_name": "LayoutModel",
            "justify_items": null,
            "grid_row": null,
            "max_height": null,
            "align_content": null,
            "visibility": null,
            "align_self": null,
            "height": null,
            "min_height": null,
            "padding": null,
            "grid_auto_rows": null,
            "grid_gap": null,
            "max_width": null,
            "order": null,
            "_view_module_version": "1.2.0",
            "grid_template_areas": null,
            "object_position": null,
            "object_fit": null,
            "grid_auto_columns": null,
            "margin": null,
            "display": null,
            "left": null
          }
        }
      }
    }
  },
  "cells": [
    {
      "cell_type": "markdown",
      "metadata": {
        "id": "view-in-github",
        "colab_type": "text"
      },
      "source": [
        "<a href=\"https://colab.research.google.com/github/davanstrien/people-iiif/blob/main/03_download_loc.ipynb\" target=\"_parent\"><img src=\"https://colab.research.google.com/assets/colab-badge.svg\" alt=\"Open In Colab\"/></a>"
      ]
    },
    {
      "cell_type": "code",
      "metadata": {
        "colab": {
          "base_uri": "https://localhost:8080/"
        },
        "id": "ObXIdn0-AnES",
        "outputId": "c1b2daac-e58c-40f3-a56f-7f0474249402"
      },
      "source": [
        "!pip install httpx loguru fastcore sparqlwrapper \n",
        "!pip install tqdm --upgrade"
      ],
      "execution_count": 1,
      "outputs": [
        {
          "output_type": "stream",
          "text": [
            "Collecting httpx\n",
            "\u001b[?25l  Downloading https://files.pythonhosted.org/packages/04/69/17b725b1bfe63228369cddf50206381eadb14bc46b933a864ae93ea1b9bf/httpx-0.18.1-py3-none-any.whl (75kB)\n",
            "\u001b[K     |████████████████████████████████| 81kB 3.9MB/s \n",
            "\u001b[?25hCollecting loguru\n",
            "\u001b[?25l  Downloading https://files.pythonhosted.org/packages/6d/48/0a7d5847e3de329f1d0134baf707b689700b53bd3066a5a8cfd94b3c9fc8/loguru-0.5.3-py3-none-any.whl (57kB)\n",
            "\u001b[K     |████████████████████████████████| 61kB 6.2MB/s \n",
            "\u001b[?25hCollecting fastcore\n",
            "\u001b[?25l  Downloading https://files.pythonhosted.org/packages/d8/b0/f1fbf554e0bf3c76e1bdc3b82eedfe41fcf656479586be38c64421082b1b/fastcore-1.3.20-py3-none-any.whl (53kB)\n",
            "\u001b[K     |████████████████████████████████| 61kB 6.1MB/s \n",
            "\u001b[?25hCollecting sparqlwrapper\n",
            "  Downloading https://files.pythonhosted.org/packages/00/9b/443fbe06996c080ee9c1f01b04e2f683b2b07e149905f33a2397ee3b80a2/SPARQLWrapper-1.8.5-py3-none-any.whl\n",
            "Collecting httpcore<0.14.0,>=0.13.0\n",
            "\u001b[?25l  Downloading https://files.pythonhosted.org/packages/7a/89/29a26a8086268a8043b1fd0228a463bab99990d77fdfaa8a2bd07117851a/httpcore-0.13.3-py3-none-any.whl (57kB)\n",
            "\u001b[K     |████████████████████████████████| 61kB 6.5MB/s \n",
            "\u001b[?25hRequirement already satisfied: certifi in /usr/local/lib/python3.7/dist-packages (from httpx) (2020.12.5)\n",
            "Collecting rfc3986[idna2008]<2,>=1.3\n",
            "  Downloading https://files.pythonhosted.org/packages/c4/e5/63ca2c4edf4e00657584608bee1001302bbf8c5f569340b78304f2f446cb/rfc3986-1.5.0-py2.py3-none-any.whl\n",
            "Collecting sniffio\n",
            "  Downloading https://files.pythonhosted.org/packages/52/b0/7b2e028b63d092804b6794595871f936aafa5e9322dcaaad50ebf67445b3/sniffio-1.2.0-py3-none-any.whl\n",
            "Requirement already satisfied: pip in /usr/local/lib/python3.7/dist-packages (from fastcore) (19.3.1)\n",
            "Requirement already satisfied: packaging in /usr/local/lib/python3.7/dist-packages (from fastcore) (20.9)\n",
            "Collecting rdflib>=4.0\n",
            "\u001b[?25l  Downloading https://files.pythonhosted.org/packages/d0/6b/6454aa1db753c0f8bc265a5bd5c10b5721a4bb24160fb4faf758cf6be8a1/rdflib-5.0.0-py3-none-any.whl (231kB)\n",
            "\u001b[K     |████████████████████████████████| 235kB 33.2MB/s \n",
            "\u001b[?25hCollecting h11<0.13,>=0.11\n",
            "\u001b[?25l  Downloading https://files.pythonhosted.org/packages/60/0f/7a0eeea938eaf61074f29fed9717f2010e8d0e0905d36b38d3275a1e4622/h11-0.12.0-py3-none-any.whl (54kB)\n",
            "\u001b[K     |████████████████████████████████| 61kB 6.5MB/s \n",
            "\u001b[?25hRequirement already satisfied: idna; extra == \"idna2008\" in /usr/local/lib/python3.7/dist-packages (from rfc3986[idna2008]<2,>=1.3->httpx) (2.10)\n",
            "Requirement already satisfied: pyparsing>=2.0.2 in /usr/local/lib/python3.7/dist-packages (from packaging->fastcore) (2.4.7)\n",
            "Collecting isodate\n",
            "\u001b[?25l  Downloading https://files.pythonhosted.org/packages/9b/9f/b36f7774ff5ea8e428fdcfc4bb332c39ee5b9362ddd3d40d9516a55221b2/isodate-0.6.0-py2.py3-none-any.whl (45kB)\n",
            "\u001b[K     |████████████████████████████████| 51kB 4.6MB/s \n",
            "\u001b[?25hRequirement already satisfied: six in /usr/local/lib/python3.7/dist-packages (from rdflib>=4.0->sparqlwrapper) (1.15.0)\n",
            "Installing collected packages: sniffio, h11, httpcore, rfc3986, httpx, loguru, fastcore, isodate, rdflib, sparqlwrapper\n",
            "Successfully installed fastcore-1.3.20 h11-0.12.0 httpcore-0.13.3 httpx-0.18.1 isodate-0.6.0 loguru-0.5.3 rdflib-5.0.0 rfc3986-1.5.0 sniffio-1.2.0 sparqlwrapper-1.8.5\n",
            "Collecting tqdm\n",
            "\u001b[?25l  Downloading https://files.pythonhosted.org/packages/72/8a/34efae5cf9924328a8f34eeb2fdaae14c011462d9f0e3fcded48e1266d1c/tqdm-4.60.0-py2.py3-none-any.whl (75kB)\n",
            "\u001b[K     |████████████████████████████████| 81kB 4.0MB/s \n",
            "\u001b[?25hInstalling collected packages: tqdm\n",
            "  Found existing installation: tqdm 4.41.1\n",
            "    Uninstalling tqdm-4.41.1:\n",
            "      Successfully uninstalled tqdm-4.41.1\n",
            "Successfully installed tqdm-4.60.0\n"
          ],
          "name": "stdout"
        }
      ]
    },
    {
      "cell_type": "code",
      "metadata": {
        "id": "hSNwOojhBdF-"
      },
      "source": [
        "import pandas as pd\n",
        "import httpx\n",
        "import io\n",
        "from pathlib import Path\n",
        "from fastcore.all import *\n",
        "from PIL import Image\n",
        "import hashlib\n",
        "from loguru import logger"
      ],
      "execution_count": 2,
      "outputs": []
    },
    {
      "cell_type": "code",
      "metadata": {
        "id": "s1YmuDdcB4BB"
      },
      "source": [
        "from tqdm.notebook import tqdm\n",
        "tqdm.pandas()"
      ],
      "execution_count": 3,
      "outputs": []
    },
    {
      "cell_type": "code",
      "metadata": {
        "id": "_AX8O-tgBKzg"
      },
      "source": [
        "path = Path('/content/drive/MyDrive/IIIF_AI_project')"
      ],
      "execution_count": 4,
      "outputs": []
    },
    {
      "cell_type": "code",
      "metadata": {
        "id": "TKG0qZ5oAVWk"
      },
      "source": [
        "df = pd.read_csv(\"https://raw.githubusercontent.com/davanstrien/people-iiif/main/loc_harvester/image_by_subject.csv?token=ACEUI5MCABVMBM6BYRBWTQTAU7GAI\", index_col=0)"
      ],
      "execution_count": 5,
      "outputs": []
    },
    {
      "cell_type": "code",
      "metadata": {
        "colab": {
          "base_uri": "https://localhost:8080/",
          "height": 597
        },
        "id": "LyfzDMnlAZ5p",
        "outputId": "8f4ce565-de99-4338-a013-8a023c3d8c2d"
      },
      "source": [
        "df"
      ],
      "execution_count": 6,
      "outputs": [
        {
          "output_type": "execute_result",
          "data": {
            "text/html": [
              "<div>\n",
              "<style scoped>\n",
              "    .dataframe tbody tr th:only-of-type {\n",
              "        vertical-align: middle;\n",
              "    }\n",
              "\n",
              "    .dataframe tbody tr th {\n",
              "        vertical-align: top;\n",
              "    }\n",
              "\n",
              "    .dataframe thead th {\n",
              "        text-align: right;\n",
              "    }\n",
              "</style>\n",
              "<table border=\"1\" class=\"dataframe\">\n",
              "  <thead>\n",
              "    <tr style=\"text-align: right;\">\n",
              "      <th></th>\n",
              "      <th>id</th>\n",
              "      <th>desc</th>\n",
              "      <th>term</th>\n",
              "      <th>source</th>\n",
              "      <th>url</th>\n",
              "    </tr>\n",
              "  </thead>\n",
              "  <tbody>\n",
              "    <tr>\n",
              "      <th>0</th>\n",
              "      <td>tgm012273</td>\n",
              "      <td>Library [of Congress, main reading room, Washi...</td>\n",
              "      <td>Glass</td>\n",
              "      <td>https://www.loc.gov/pictures/item/2016819413/</td>\n",
              "      <td>https://tile.loc.gov/storage-services/service/...</td>\n",
              "    </tr>\n",
              "    <tr>\n",
              "      <th>1</th>\n",
              "      <td>tgm012273</td>\n",
              "      <td>[Stained glass windows]</td>\n",
              "      <td>Glass</td>\n",
              "      <td>https://www.loc.gov/pictures/item/2016819457/</td>\n",
              "      <td>https://tile.loc.gov/storage-services/service/...</td>\n",
              "    </tr>\n",
              "    <tr>\n",
              "      <th>2</th>\n",
              "      <td>tgm012273</td>\n",
              "      <td>Cone-shaped exterior feature at the Museum of ...</td>\n",
              "      <td>Glass</td>\n",
              "      <td>https://www.loc.gov/pictures/item/2018699148/</td>\n",
              "      <td>https://tile.loc.gov/storage-services/service/...</td>\n",
              "    </tr>\n",
              "    <tr>\n",
              "      <th>3</th>\n",
              "      <td>tgm012273</td>\n",
              "      <td>Cone-shaped exterior feature at the Museum of ...</td>\n",
              "      <td>Glass</td>\n",
              "      <td>https://www.loc.gov/pictures/item/2018699154/</td>\n",
              "      <td>https://tile.loc.gov/storage-services/service/...</td>\n",
              "    </tr>\n",
              "    <tr>\n",
              "      <th>4</th>\n",
              "      <td>tgm012273</td>\n",
              "      <td>[Library of Congress (Washington, D.C.). Leade...</td>\n",
              "      <td>Glass</td>\n",
              "      <td>https://www.loc.gov/pictures/item/2001695198/</td>\n",
              "      <td>https://tile.loc.gov/storage-services/service/...</td>\n",
              "    </tr>\n",
              "    <tr>\n",
              "      <th>...</th>\n",
              "      <td>...</td>\n",
              "      <td>...</td>\n",
              "      <td>...</td>\n",
              "      <td>...</td>\n",
              "      <td>...</td>\n",
              "    </tr>\n",
              "    <tr>\n",
              "      <th>72702</th>\n",
              "      <td>tgm005206</td>\n",
              "      <td>Things we see at the National Academy of Design</td>\n",
              "      <td>Hugging</td>\n",
              "      <td>https://www.loc.gov/pictures/item/2011660524/</td>\n",
              "      <td>https://tile.loc.gov/storage-services/service/...</td>\n",
              "    </tr>\n",
              "    <tr>\n",
              "      <th>72703</th>\n",
              "      <td>tgm005206</td>\n",
              "      <td>\"Woman are too sentimental for jury duty\" --An...</td>\n",
              "      <td>Hugging</td>\n",
              "      <td>https://www.loc.gov/pictures/item/2011660530/</td>\n",
              "      <td>https://tile.loc.gov/storage-services/service/...</td>\n",
              "    </tr>\n",
              "    <tr>\n",
              "      <th>72704</th>\n",
              "      <td>tgm005206</td>\n",
              "      <td>\"I'll take care of you, Grandma!\" (after the o...</td>\n",
              "      <td>Hugging</td>\n",
              "      <td>https://www.loc.gov/pictures/item/2012648687/</td>\n",
              "      <td>https://tile.loc.gov/storage-services/service/...</td>\n",
              "    </tr>\n",
              "    <tr>\n",
              "      <th>72705</th>\n",
              "      <td>tgm005206</td>\n",
              "      <td>Wed! \"Does oo love oo Tigy-Wigy?\"</td>\n",
              "      <td>Hugging</td>\n",
              "      <td>https://www.loc.gov/pictures/item/2012648780/</td>\n",
              "      <td>https://tile.loc.gov/storage-services/service/...</td>\n",
              "    </tr>\n",
              "    <tr>\n",
              "      <th>72706</th>\n",
              "      <td>tgm005206</td>\n",
              "      <td>Brother Tallman \"What never?\" Brother Broadman...</td>\n",
              "      <td>Hugging</td>\n",
              "      <td>https://www.loc.gov/pictures/item/2013646788/</td>\n",
              "      <td>https://tile.loc.gov/storage-services/service/...</td>\n",
              "    </tr>\n",
              "  </tbody>\n",
              "</table>\n",
              "<p>72707 rows × 5 columns</p>\n",
              "</div>"
            ],
            "text/plain": [
              "              id  ...                                                url\n",
              "0      tgm012273  ...  https://tile.loc.gov/storage-services/service/...\n",
              "1      tgm012273  ...  https://tile.loc.gov/storage-services/service/...\n",
              "2      tgm012273  ...  https://tile.loc.gov/storage-services/service/...\n",
              "3      tgm012273  ...  https://tile.loc.gov/storage-services/service/...\n",
              "4      tgm012273  ...  https://tile.loc.gov/storage-services/service/...\n",
              "...          ...  ...                                                ...\n",
              "72702  tgm005206  ...  https://tile.loc.gov/storage-services/service/...\n",
              "72703  tgm005206  ...  https://tile.loc.gov/storage-services/service/...\n",
              "72704  tgm005206  ...  https://tile.loc.gov/storage-services/service/...\n",
              "72705  tgm005206  ...  https://tile.loc.gov/storage-services/service/...\n",
              "72706  tgm005206  ...  https://tile.loc.gov/storage-services/service/...\n",
              "\n",
              "[72707 rows x 5 columns]"
            ]
          },
          "metadata": {
            "tags": []
          },
          "execution_count": 6
        }
      ]
    },
    {
      "cell_type": "code",
      "metadata": {
        "id": "jmtKyr-lBlua"
      },
      "source": [
        "df['urlhash'] = pd.util.hash_pandas_object(df.url, index=False)"
      ],
      "execution_count": 7,
      "outputs": []
    },
    {
      "cell_type": "code",
      "metadata": {
        "id": "9vZClQ9dBGND"
      },
      "source": [
        "Path(path/'loc-images-labels').mkdir(exist_ok=True)\n",
        "save_path = Path(path/'loc-images-labels')"
      ],
      "execution_count": 8,
      "outputs": []
    },
    {
      "cell_type": "code",
      "metadata": {
        "id": "rYKXg1iOaaCG"
      },
      "source": [
        ""
      ],
      "execution_count": 8,
      "outputs": []
    },
    {
      "cell_type": "code",
      "metadata": {
        "id": "hvIT4ixNA5qJ"
      },
      "source": [
        "def download_image(row, path=save_path):\n",
        "    url = row.url\n",
        "    hash = row.urlhash\n",
        "    ext = url.split('.')[-1]\n",
        "    fpath = f'{path}/{hash}.{ext}'\n",
        "    if not Path(fpath).is_file():\n",
        "        try:\n",
        "            r = httpx.get(url, timeout=30)\n",
        "            im = Image.open(io.BytesIO(r.content))\n",
        "            im.save(fpath)\n",
        "            return fpath         \n",
        "        except Exception as e:\n",
        "            logger.exception(e)\n",
        "    else:\n",
        "        if Path(fpath).exists():\n",
        "            return fpath\n",
        "        else:\n",
        "            pass"
      ],
      "execution_count": 9,
      "outputs": []
    },
    {
      "cell_type": "code",
      "metadata": {
        "id": "oYNMWWlAqx6o"
      },
      "source": [
        "from tqdm.contrib.concurrent import thread_map"
      ],
      "execution_count": 10,
      "outputs": []
    },
    {
      "cell_type": "code",
      "metadata": {
        "id": "ASSKez3Vqrcj"
      },
      "source": [
        "data = list(df.itertuples(index=False))"
      ],
      "execution_count": 11,
      "outputs": []
    },
    {
      "cell_type": "code",
      "metadata": {
        "colab": {
          "base_uri": "https://localhost:8080/",
          "height": 1000,
          "referenced_widgets": [
            "7320d4632917409eb0c47e24dfa86b01",
            "87ed32ff3057404b9f6dcf69e189c90a",
            "389be546b25a4f80ab2b35ab94cda1e9",
            "2cc46efa58824d4baccd14e74419fe8a",
            "3e4fe08557ad43b5ab93e58a2a1778e7",
            "aacabd98d569441593d945d7072fcf68",
            "abc845575d0a4361abc6fcf4fddba1f6",
            "aac0af8cc0074438b76ab5f7f52a30c7",
            "453eec45ae804449b6c728a68fcb9e9d",
            "1cd497ed09904094a94a747d63a7f22f",
            "a52d2038cd30404797dbb2be61fce9d2"
          ]
        },
        "id": "cUIP_H9Dq45f",
        "outputId": "97a58a42-9687-405c-a9a9-288cc2f3fcb8"
      },
      "source": [
        "fpaths = thread_map(download_image, data)"
      ],
      "execution_count": 13,
      "outputs": [
        {
          "output_type": "display_data",
          "data": {
            "application/vnd.jupyter.widget-view+json": {
              "model_id": "7320d4632917409eb0c47e24dfa86b01",
              "version_minor": 0,
              "version_major": 2
            },
            "text/plain": [
              "  0%|          | 0/72707 [00:00<?, ?it/s]"
            ]
          },
          "metadata": {
            "tags": []
          }
        },
        {
          "output_type": "stream",
          "text": [
            "2021-05-15 11:29:29.940 | ERROR    | __main__:download_image:13 - cannot identify image file <_io.BytesIO object at 0x7f0077b4d9b0>\n",
            "Traceback (most recent call last):\n",
            "\n",
            "  File \"/usr/lib/python3.7/threading.py\", line 890, in _bootstrap\n",
            "    self._bootstrap_inner()\n",
            "    │    └ <function Thread._bootstrap_inner at 0x7f00b1aa4710>\n",
            "    └ <Thread(ThreadPoolExecutor-1_2, started daemon 139640276670208)>\n",
            "  File \"/usr/lib/python3.7/threading.py\", line 926, in _bootstrap_inner\n",
            "    self.run()\n",
            "    │    └ <function Thread.run at 0x7f00b1aa44d0>\n",
            "    └ <Thread(ThreadPoolExecutor-1_2, started daemon 139640276670208)>\n",
            "  File \"/usr/lib/python3.7/threading.py\", line 870, in run\n",
            "    self._target(*self._args, **self._kwargs)\n",
            "    │    │        │    │        │    └ {}\n",
            "    │    │        │    │        └ <Thread(ThreadPoolExecutor-1_2, started daemon 139640276670208)>\n",
            "    │    │        │    └ (<weakref at 0x7f007eac08f0; to 'ThreadPoolExecutor' at 0x7f007e7f3890>, <_queue.SimpleQueue object at 0x7f007eac02f0>, <boun...\n",
            "    │    │        └ <Thread(ThreadPoolExecutor-1_2, started daemon 139640276670208)>\n",
            "    │    └ <function _worker at 0x7f00abbca830>\n",
            "    └ <Thread(ThreadPoolExecutor-1_2, started daemon 139640276670208)>\n",
            "  File \"/usr/lib/python3.7/concurrent/futures/thread.py\", line 80, in _worker\n",
            "    work_item.run()\n",
            "    │         └ <function _WorkItem.run at 0x7f00abbca950>\n",
            "    └ <concurrent.futures.thread._WorkItem object at 0x7f0083697310>\n",
            "  File \"/usr/lib/python3.7/concurrent/futures/thread.py\", line 57, in run\n",
            "    result = self.fn(*self.args, **self.kwargs)\n",
            "             │    │   │    │       │    └ {}\n",
            "             │    │   │    │       └ <concurrent.futures.thread._WorkItem object at 0x7f0083697310>\n",
            "             │    │   │    └ [Pandas(id='tgm005191', desc='Western Reserve Academy, Bliss-Slaughter House, 79 Hudson Street, Hudson, Summit County, OH', t...\n",
            "             │    │   └ <concurrent.futures.thread._WorkItem object at 0x7f0083697310>\n",
            "             │    └ <function download_image at 0x7f008a4b1680>\n",
            "             └ <concurrent.futures.thread._WorkItem object at 0x7f0083697310>\n",
            "> File \"<ipython-input-9-72511b032b58>\", line 9, in download_image\n",
            "    im = Image.open(io.BytesIO(r.content))\n",
            "         │     │    │  │       │ └ <property object at 0x7f008c3180b0>\n",
            "         │     │    │  │       └ <Response [404 Not Found]>\n",
            "         │     │    │  └ <class '_io.BytesIO'>\n",
            "         │     │    └ <module 'io' from '/usr/lib/python3.7/io.py'>\n",
            "         │     └ <function open at 0x7f0091456290>\n",
            "         └ <module 'PIL.Image' from '/usr/local/lib/python3.7/dist-packages/PIL/Image.py'>\n",
            "\n",
            "  File \"/usr/local/lib/python3.7/dist-packages/PIL/Image.py\", line 2896, in open\n",
            "    \"cannot identify image file %r\" % (filename if filename else fp)\n",
            "                                       │           │             └ <_io.BytesIO object at 0x7f0077b4d9b0>\n",
            "                                       │           └ ''\n",
            "                                       └ ''\n",
            "\n",
            "PIL.UnidentifiedImageError: cannot identify image file <_io.BytesIO object at 0x7f0077b4d9b0>\n",
            "2021-05-15 11:29:31.990 | ERROR    | __main__:download_image:13 - cannot identify image file <_io.BytesIO object at 0x7f007fb2cb90>\n",
            "Traceback (most recent call last):\n",
            "\n",
            "  File \"/usr/lib/python3.7/threading.py\", line 890, in _bootstrap\n",
            "    self._bootstrap_inner()\n",
            "    │    └ <function Thread._bootstrap_inner at 0x7f00b1aa4710>\n",
            "    └ <Thread(ThreadPoolExecutor-1_0, started daemon 139640251492096)>\n",
            "  File \"/usr/lib/python3.7/threading.py\", line 926, in _bootstrap_inner\n",
            "    self.run()\n",
            "    │    └ <function Thread.run at 0x7f00b1aa44d0>\n",
            "    └ <Thread(ThreadPoolExecutor-1_0, started daemon 139640251492096)>\n",
            "  File \"/usr/lib/python3.7/threading.py\", line 870, in run\n",
            "    self._target(*self._args, **self._kwargs)\n",
            "    │    │        │    │        │    └ {}\n",
            "    │    │        │    │        └ <Thread(ThreadPoolExecutor-1_0, started daemon 139640251492096)>\n",
            "    │    │        │    └ (<weakref at 0x7f007eac0590; to 'ThreadPoolExecutor' at 0x7f007e7f3890>, <_queue.SimpleQueue object at 0x7f007eac02f0>, <boun...\n",
            "    │    │        └ <Thread(ThreadPoolExecutor-1_0, started daemon 139640251492096)>\n",
            "    │    └ <function _worker at 0x7f00abbca830>\n",
            "    └ <Thread(ThreadPoolExecutor-1_0, started daemon 139640251492096)>\n",
            "  File \"/usr/lib/python3.7/concurrent/futures/thread.py\", line 80, in _worker\n",
            "    work_item.run()\n",
            "    │         └ <function _WorkItem.run at 0x7f00abbca950>\n",
            "    └ <concurrent.futures.thread._WorkItem object at 0x7f0086361e50>\n",
            "  File \"/usr/lib/python3.7/concurrent/futures/thread.py\", line 57, in run\n",
            "    result = self.fn(*self.args, **self.kwargs)\n",
            "             │    │   │    │       │    └ {}\n",
            "             │    │   │    │       └ <concurrent.futures.thread._WorkItem object at 0x7f0086361e50>\n",
            "             │    │   │    └ [Pandas(id='tgm001405', desc='Battle House, NC Route 43-48 (Falls Road), Rocky Mount, Nash County, NC', term='Buildings', sou...\n",
            "             │    │   └ <concurrent.futures.thread._WorkItem object at 0x7f0086361e50>\n",
            "             │    └ <function download_image at 0x7f008a4b1680>\n",
            "             └ <concurrent.futures.thread._WorkItem object at 0x7f0086361e50>\n",
            "> File \"<ipython-input-9-72511b032b58>\", line 9, in download_image\n",
            "    im = Image.open(io.BytesIO(r.content))\n",
            "         │     │    │  │       │ └ <property object at 0x7f008c3180b0>\n",
            "         │     │    │  │       └ <Response [404 Not Found]>\n",
            "         │     │    │  └ <class '_io.BytesIO'>\n",
            "         │     │    └ <module 'io' from '/usr/lib/python3.7/io.py'>\n",
            "         │     └ <function open at 0x7f0091456290>\n",
            "         └ <module 'PIL.Image' from '/usr/local/lib/python3.7/dist-packages/PIL/Image.py'>\n",
            "\n",
            "  File \"/usr/local/lib/python3.7/dist-packages/PIL/Image.py\", line 2896, in open\n",
            "    \"cannot identify image file %r\" % (filename if filename else fp)\n",
            "                                       │           │             └ <_io.BytesIO object at 0x7f007fb2cb90>\n",
            "                                       │           └ ''\n",
            "                                       └ ''\n",
            "\n",
            "PIL.UnidentifiedImageError: cannot identify image file <_io.BytesIO object at 0x7f007fb2cb90>\n"
          ],
          "name": "stderr"
        }
      ]
    },
    {
      "cell_type": "code",
      "metadata": {
        "id": "KFGVKSD7rSto"
      },
      "source": [
        "fpaths;"
      ],
      "execution_count": 15,
      "outputs": []
    },
    {
      "cell_type": "code",
      "metadata": {
        "id": "kU1lAc4dBoRO"
      },
      "source": [
        "#df['dl_fpath'] = df.progress_apply(download_image, axis=1)"
      ],
      "execution_count": 16,
      "outputs": []
    },
    {
      "cell_type": "code",
      "metadata": {
        "id": "q0Ac-FkEzCZo"
      },
      "source": [
        "df['dl_fpath'] = fpaths"
      ],
      "execution_count": 17,
      "outputs": []
    },
    {
      "cell_type": "code",
      "metadata": {
        "id": "51dDN441B6qu"
      },
      "source": [
        "df.to_csv(path/'loc-images-labels.csv')"
      ],
      "execution_count": 18,
      "outputs": []
    },
    {
      "cell_type": "code",
      "metadata": {
        "colab": {
          "base_uri": "https://localhost:8080/",
          "height": 36
        },
        "id": "T9LVttjRaek_",
        "outputId": "37f49dbc-5bb3-4b34-a5a6-a2975264ffc0"
      },
      "source": [
        "pd.read_csv(path/'loc-images-labels.csv')['dl_fpath'][0]"
      ],
      "execution_count": 10,
      "outputs": [
        {
          "output_type": "execute_result",
          "data": {
            "application/vnd.google.colaboratory.intrinsic+json": {
              "type": "string"
            },
            "text/plain": [
              "'/content/drive/MyDrive/IIIF_AI_project/loc-images-labels/7602538306817500955.jpg'"
            ]
          },
          "metadata": {
            "tags": []
          },
          "execution_count": 10
        }
      ]
    },
    {
      "cell_type": "code",
      "metadata": {
        "colab": {
          "base_uri": "https://localhost:8080/"
        },
        "id": "iSmqxufbaf8Z",
        "outputId": "6f464fef-efd0-4f36-e8fb-dddae93c1685"
      },
      "source": [
        "Path('/content/drive/MyDrive/IIIF_AI_project/loc-images-labels/7602538306817500955.jpg').exists()"
      ],
      "execution_count": 12,
      "outputs": [
        {
          "output_type": "execute_result",
          "data": {
            "text/plain": [
              "True"
            ]
          },
          "metadata": {
            "tags": []
          },
          "execution_count": 12
        }
      ]
    },
    {
      "cell_type": "code",
      "metadata": {
        "id": "0i7Jxo8malil"
      },
      "source": [
        ""
      ],
      "execution_count": null,
      "outputs": []
    }
  ]
}