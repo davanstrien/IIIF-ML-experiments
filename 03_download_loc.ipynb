{
  "nbformat": 4,
  "nbformat_minor": 0,
  "metadata": {
    "colab": {
      "name": "03_download_loc.ipynb",
      "provenance": [],
      "collapsed_sections": [],
      "mount_file_id": "15WpHMi2AHlJVAuZCBjzqeO1kC3MoFzWz",
      "authorship_tag": "ABX9TyOEktK+RK6eozLIwBzEg0FY",
      "include_colab_link": true
    },
    "kernelspec": {
      "name": "python3",
      "display_name": "Python 3"
    },
    "language_info": {
      "name": "python"
    },
    "widgets": {
      "application/vnd.jupyter.widget-state+json": {
        "7af3b42ff1a341efb82602a296a232a5": {
          "model_module": "@jupyter-widgets/controls",
          "model_name": "HBoxModel",
          "state": {
            "_view_name": "HBoxView",
            "_dom_classes": [],
            "_model_name": "HBoxModel",
            "_view_module": "@jupyter-widgets/controls",
            "_model_module_version": "1.5.0",
            "_view_count": null,
            "_view_module_version": "1.5.0",
            "box_style": "",
            "layout": "IPY_MODEL_ccfed1582ee5477c90b195890a4b3cba",
            "_model_module": "@jupyter-widgets/controls",
            "children": [
              "IPY_MODEL_03f9f842063b4fecbe268dea3e4a0368",
              "IPY_MODEL_28227e4be45643dc8ebaa2ddc0a27477"
            ]
          }
        },
        "ccfed1582ee5477c90b195890a4b3cba": {
          "model_module": "@jupyter-widgets/base",
          "model_name": "LayoutModel",
          "state": {
            "_view_name": "LayoutView",
            "grid_template_rows": null,
            "right": null,
            "justify_content": null,
            "_view_module": "@jupyter-widgets/base",
            "overflow": null,
            "_model_module_version": "1.2.0",
            "_view_count": null,
            "flex_flow": null,
            "width": null,
            "min_width": null,
            "border": null,
            "align_items": null,
            "bottom": null,
            "_model_module": "@jupyter-widgets/base",
            "top": null,
            "grid_column": null,
            "overflow_y": null,
            "overflow_x": null,
            "grid_auto_flow": null,
            "grid_area": null,
            "grid_template_columns": null,
            "flex": null,
            "_model_name": "LayoutModel",
            "justify_items": null,
            "grid_row": null,
            "max_height": null,
            "align_content": null,
            "visibility": null,
            "align_self": null,
            "height": null,
            "min_height": null,
            "padding": null,
            "grid_auto_rows": null,
            "grid_gap": null,
            "max_width": null,
            "order": null,
            "_view_module_version": "1.2.0",
            "grid_template_areas": null,
            "object_position": null,
            "object_fit": null,
            "grid_auto_columns": null,
            "margin": null,
            "display": null,
            "left": null
          }
        },
        "03f9f842063b4fecbe268dea3e4a0368": {
          "model_module": "@jupyter-widgets/controls",
          "model_name": "FloatProgressModel",
          "state": {
            "_view_name": "ProgressView",
            "style": "IPY_MODEL_a803dc6266ec46a491a084e37a20f660",
            "_dom_classes": [],
            "description": "100%",
            "_model_name": "FloatProgressModel",
            "bar_style": "success",
            "max": 314,
            "_view_module": "@jupyter-widgets/controls",
            "_model_module_version": "1.5.0",
            "value": 314,
            "_view_count": null,
            "_view_module_version": "1.5.0",
            "orientation": "horizontal",
            "min": 0,
            "description_tooltip": null,
            "_model_module": "@jupyter-widgets/controls",
            "layout": "IPY_MODEL_fe584913acbe47449dbf085ee833a1b9"
          }
        },
        "28227e4be45643dc8ebaa2ddc0a27477": {
          "model_module": "@jupyter-widgets/controls",
          "model_name": "HTMLModel",
          "state": {
            "_view_name": "HTMLView",
            "style": "IPY_MODEL_892ce1845a5a4292b49499d21b0be63b",
            "_dom_classes": [],
            "description": "",
            "_model_name": "HTMLModel",
            "placeholder": "​",
            "_view_module": "@jupyter-widgets/controls",
            "_model_module_version": "1.5.0",
            "value": " 314/314 [04:09&lt;00:00,  1.26it/s]",
            "_view_count": null,
            "_view_module_version": "1.5.0",
            "description_tooltip": null,
            "_model_module": "@jupyter-widgets/controls",
            "layout": "IPY_MODEL_21cb3916cfa4475fa2009d8a6ebc795f"
          }
        },
        "a803dc6266ec46a491a084e37a20f660": {
          "model_module": "@jupyter-widgets/controls",
          "model_name": "ProgressStyleModel",
          "state": {
            "_view_name": "StyleView",
            "_model_name": "ProgressStyleModel",
            "description_width": "initial",
            "_view_module": "@jupyter-widgets/base",
            "_model_module_version": "1.5.0",
            "_view_count": null,
            "_view_module_version": "1.2.0",
            "bar_color": null,
            "_model_module": "@jupyter-widgets/controls"
          }
        },
        "fe584913acbe47449dbf085ee833a1b9": {
          "model_module": "@jupyter-widgets/base",
          "model_name": "LayoutModel",
          "state": {
            "_view_name": "LayoutView",
            "grid_template_rows": null,
            "right": null,
            "justify_content": null,
            "_view_module": "@jupyter-widgets/base",
            "overflow": null,
            "_model_module_version": "1.2.0",
            "_view_count": null,
            "flex_flow": null,
            "width": null,
            "min_width": null,
            "border": null,
            "align_items": null,
            "bottom": null,
            "_model_module": "@jupyter-widgets/base",
            "top": null,
            "grid_column": null,
            "overflow_y": null,
            "overflow_x": null,
            "grid_auto_flow": null,
            "grid_area": null,
            "grid_template_columns": null,
            "flex": null,
            "_model_name": "LayoutModel",
            "justify_items": null,
            "grid_row": null,
            "max_height": null,
            "align_content": null,
            "visibility": null,
            "align_self": null,
            "height": null,
            "min_height": null,
            "padding": null,
            "grid_auto_rows": null,
            "grid_gap": null,
            "max_width": null,
            "order": null,
            "_view_module_version": "1.2.0",
            "grid_template_areas": null,
            "object_position": null,
            "object_fit": null,
            "grid_auto_columns": null,
            "margin": null,
            "display": null,
            "left": null
          }
        },
        "892ce1845a5a4292b49499d21b0be63b": {
          "model_module": "@jupyter-widgets/controls",
          "model_name": "DescriptionStyleModel",
          "state": {
            "_view_name": "StyleView",
            "_model_name": "DescriptionStyleModel",
            "description_width": "",
            "_view_module": "@jupyter-widgets/base",
            "_model_module_version": "1.5.0",
            "_view_count": null,
            "_view_module_version": "1.2.0",
            "_model_module": "@jupyter-widgets/controls"
          }
        },
        "21cb3916cfa4475fa2009d8a6ebc795f": {
          "model_module": "@jupyter-widgets/base",
          "model_name": "LayoutModel",
          "state": {
            "_view_name": "LayoutView",
            "grid_template_rows": null,
            "right": null,
            "justify_content": null,
            "_view_module": "@jupyter-widgets/base",
            "overflow": null,
            "_model_module_version": "1.2.0",
            "_view_count": null,
            "flex_flow": null,
            "width": null,
            "min_width": null,
            "border": null,
            "align_items": null,
            "bottom": null,
            "_model_module": "@jupyter-widgets/base",
            "top": null,
            "grid_column": null,
            "overflow_y": null,
            "overflow_x": null,
            "grid_auto_flow": null,
            "grid_area": null,
            "grid_template_columns": null,
            "flex": null,
            "_model_name": "LayoutModel",
            "justify_items": null,
            "grid_row": null,
            "max_height": null,
            "align_content": null,
            "visibility": null,
            "align_self": null,
            "height": null,
            "min_height": null,
            "padding": null,
            "grid_auto_rows": null,
            "grid_gap": null,
            "max_width": null,
            "order": null,
            "_view_module_version": "1.2.0",
            "grid_template_areas": null,
            "object_position": null,
            "object_fit": null,
            "grid_auto_columns": null,
            "margin": null,
            "display": null,
            "left": null
          }
        }
      }
    }
  },
  "cells": [
    {
      "cell_type": "markdown",
      "metadata": {
        "id": "view-in-github",
        "colab_type": "text"
      },
      "source": [
        "<a href=\"https://colab.research.google.com/github/davanstrien/people-iiif/blob/main/03_download_loc.ipynb\" target=\"_parent\"><img src=\"https://colab.research.google.com/assets/colab-badge.svg\" alt=\"Open In Colab\"/></a>"
      ]
    },
    {
      "cell_type": "code",
      "metadata": {
        "colab": {
          "base_uri": "https://localhost:8080/"
        },
        "id": "ObXIdn0-AnES",
        "outputId": "401557fb-99f2-4296-b56c-22f2832c3eb0"
      },
      "source": [
        "!pip install httpx loguru fastcore sparqlwrapper tqdm"
      ],
      "execution_count": null,
      "outputs": [
        {
          "output_type": "stream",
          "text": [
            "Collecting httpx\n",
            "\u001b[?25l  Downloading https://files.pythonhosted.org/packages/04/69/17b725b1bfe63228369cddf50206381eadb14bc46b933a864ae93ea1b9bf/httpx-0.18.1-py3-none-any.whl (75kB)\n",
            "\r\u001b[K     |████▎                           | 10kB 17.2MB/s eta 0:00:01\r\u001b[K     |████████▋                       | 20kB 25.9MB/s eta 0:00:01\r\u001b[K     |█████████████                   | 30kB 32.4MB/s eta 0:00:01\r\u001b[K     |█████████████████▎              | 40kB 28.2MB/s eta 0:00:01\r\u001b[K     |█████████████████████▋          | 51kB 15.2MB/s eta 0:00:01\r\u001b[K     |██████████████████████████      | 61kB 12.6MB/s eta 0:00:01\r\u001b[K     |██████████████████████████████▎ | 71kB 12.1MB/s eta 0:00:01\r\u001b[K     |████████████████████████████████| 81kB 4.4MB/s \n",
            "\u001b[?25hCollecting loguru\n",
            "\u001b[?25l  Downloading https://files.pythonhosted.org/packages/6d/48/0a7d5847e3de329f1d0134baf707b689700b53bd3066a5a8cfd94b3c9fc8/loguru-0.5.3-py3-none-any.whl (57kB)\n",
            "\u001b[K     |████████████████████████████████| 61kB 4.0MB/s \n",
            "\u001b[?25hCollecting fastcore\n",
            "\u001b[?25l  Downloading https://files.pythonhosted.org/packages/d8/b0/f1fbf554e0bf3c76e1bdc3b82eedfe41fcf656479586be38c64421082b1b/fastcore-1.3.20-py3-none-any.whl (53kB)\n",
            "\u001b[K     |████████████████████████████████| 61kB 5.0MB/s \n",
            "\u001b[?25hCollecting sparqlwrapper\n",
            "  Downloading https://files.pythonhosted.org/packages/00/9b/443fbe06996c080ee9c1f01b04e2f683b2b07e149905f33a2397ee3b80a2/SPARQLWrapper-1.8.5-py3-none-any.whl\n",
            "Requirement already satisfied: tqdm in /usr/local/lib/python3.7/dist-packages (4.41.1)\n",
            "Collecting sniffio\n",
            "  Downloading https://files.pythonhosted.org/packages/52/b0/7b2e028b63d092804b6794595871f936aafa5e9322dcaaad50ebf67445b3/sniffio-1.2.0-py3-none-any.whl\n",
            "Collecting rfc3986[idna2008]<2,>=1.3\n",
            "  Downloading https://files.pythonhosted.org/packages/c4/e5/63ca2c4edf4e00657584608bee1001302bbf8c5f569340b78304f2f446cb/rfc3986-1.5.0-py2.py3-none-any.whl\n",
            "Requirement already satisfied: certifi in /usr/local/lib/python3.7/dist-packages (from httpx) (2020.12.5)\n",
            "Collecting httpcore<0.14.0,>=0.13.0\n",
            "\u001b[?25l  Downloading https://files.pythonhosted.org/packages/7a/89/29a26a8086268a8043b1fd0228a463bab99990d77fdfaa8a2bd07117851a/httpcore-0.13.3-py3-none-any.whl (57kB)\n",
            "\u001b[K     |████████████████████████████████| 61kB 3.9MB/s \n",
            "\u001b[?25hRequirement already satisfied: pip in /usr/local/lib/python3.7/dist-packages (from fastcore) (19.3.1)\n",
            "Requirement already satisfied: packaging in /usr/local/lib/python3.7/dist-packages (from fastcore) (20.9)\n",
            "Collecting rdflib>=4.0\n",
            "\u001b[?25l  Downloading https://files.pythonhosted.org/packages/d0/6b/6454aa1db753c0f8bc265a5bd5c10b5721a4bb24160fb4faf758cf6be8a1/rdflib-5.0.0-py3-none-any.whl (231kB)\n",
            "\u001b[K     |████████████████████████████████| 235kB 23.5MB/s \n",
            "\u001b[?25hRequirement already satisfied: idna; extra == \"idna2008\" in /usr/local/lib/python3.7/dist-packages (from rfc3986[idna2008]<2,>=1.3->httpx) (2.10)\n",
            "Collecting h11<0.13,>=0.11\n",
            "\u001b[?25l  Downloading https://files.pythonhosted.org/packages/60/0f/7a0eeea938eaf61074f29fed9717f2010e8d0e0905d36b38d3275a1e4622/h11-0.12.0-py3-none-any.whl (54kB)\n",
            "\u001b[K     |████████████████████████████████| 61kB 4.6MB/s \n",
            "\u001b[?25hRequirement already satisfied: pyparsing>=2.0.2 in /usr/local/lib/python3.7/dist-packages (from packaging->fastcore) (2.4.7)\n",
            "Requirement already satisfied: six in /usr/local/lib/python3.7/dist-packages (from rdflib>=4.0->sparqlwrapper) (1.15.0)\n",
            "Collecting isodate\n",
            "\u001b[?25l  Downloading https://files.pythonhosted.org/packages/9b/9f/b36f7774ff5ea8e428fdcfc4bb332c39ee5b9362ddd3d40d9516a55221b2/isodate-0.6.0-py2.py3-none-any.whl (45kB)\n",
            "\u001b[K     |████████████████████████████████| 51kB 3.6MB/s \n",
            "\u001b[?25hInstalling collected packages: sniffio, rfc3986, h11, httpcore, httpx, loguru, fastcore, isodate, rdflib, sparqlwrapper\n",
            "Successfully installed fastcore-1.3.20 h11-0.12.0 httpcore-0.13.3 httpx-0.18.1 isodate-0.6.0 loguru-0.5.3 rdflib-5.0.0 rfc3986-1.5.0 sniffio-1.2.0 sparqlwrapper-1.8.5\n"
          ],
          "name": "stdout"
        }
      ]
    },
    {
      "cell_type": "code",
      "metadata": {
        "id": "hSNwOojhBdF-"
      },
      "source": [
        "import pandas as pd\n",
        "import httpx\n",
        "import io\n",
        "from pathlib import Path\n",
        "from fastcore.all import *\n",
        "from PIL import Image\n",
        "import hashlib\n",
        "from loguru import logger"
      ],
      "execution_count": null,
      "outputs": []
    },
    {
      "cell_type": "code",
      "metadata": {
        "colab": {
          "base_uri": "https://localhost:8080/"
        },
        "id": "s1YmuDdcB4BB",
        "outputId": "4d43f4e6-4589-4e33-da65-e05da24b0de9"
      },
      "source": [
        "from tqdm.notebook import tqdm\n",
        "tqdm.pandas()"
      ],
      "execution_count": null,
      "outputs": [
        {
          "output_type": "stream",
          "text": [
            "/usr/local/lib/python3.7/dist-packages/tqdm/std.py:658: FutureWarning: The Panel class is removed from pandas. Accessing it from the top-level namespace will also be removed in the next version\n",
            "  from pandas import Panel\n"
          ],
          "name": "stderr"
        }
      ]
    },
    {
      "cell_type": "code",
      "metadata": {
        "id": "_AX8O-tgBKzg"
      },
      "source": [
        "path = Path('/content/drive/MyDrive/IIIF_AI_project')"
      ],
      "execution_count": null,
      "outputs": []
    },
    {
      "cell_type": "code",
      "metadata": {
        "id": "TKG0qZ5oAVWk"
      },
      "source": [
        "df = pd.read_csv(\"https://raw.githubusercontent.com/davanstrien/people-iiif/main/loc_harvester/image_by_subject.csv?token=ACEUI5LFQGQXOEYLLVXG5O3AT7A7O\", index_col=0)"
      ],
      "execution_count": null,
      "outputs": []
    },
    {
      "cell_type": "code",
      "metadata": {
        "colab": {
          "base_uri": "https://localhost:8080/",
          "height": 597
        },
        "id": "LyfzDMnlAZ5p",
        "outputId": "0f7b3174-48b3-4081-b5a4-72a12b8addbc"
      },
      "source": [
        "df"
      ],
      "execution_count": null,
      "outputs": [
        {
          "output_type": "execute_result",
          "data": {
            "text/html": [
              "<div>\n",
              "<style scoped>\n",
              "    .dataframe tbody tr th:only-of-type {\n",
              "        vertical-align: middle;\n",
              "    }\n",
              "\n",
              "    .dataframe tbody tr th {\n",
              "        vertical-align: top;\n",
              "    }\n",
              "\n",
              "    .dataframe thead th {\n",
              "        text-align: right;\n",
              "    }\n",
              "</style>\n",
              "<table border=\"1\" class=\"dataframe\">\n",
              "  <thead>\n",
              "    <tr style=\"text-align: right;\">\n",
              "      <th></th>\n",
              "      <th>id</th>\n",
              "      <th>desc</th>\n",
              "      <th>term</th>\n",
              "      <th>source</th>\n",
              "      <th>url</th>\n",
              "    </tr>\n",
              "  </thead>\n",
              "  <tbody>\n",
              "    <tr>\n",
              "      <th>0</th>\n",
              "      <td>tgm012273</td>\n",
              "      <td>Library [of Congress, main reading room, Washi...</td>\n",
              "      <td>Glass</td>\n",
              "      <td>https://www.loc.gov/pictures/item/2016819413/</td>\n",
              "      <td>https://tile.loc.gov/storage-services/service/...</td>\n",
              "    </tr>\n",
              "    <tr>\n",
              "      <th>1</th>\n",
              "      <td>tgm012273</td>\n",
              "      <td>[Stained glass windows]</td>\n",
              "      <td>Glass</td>\n",
              "      <td>https://www.loc.gov/pictures/item/2016819457/</td>\n",
              "      <td>https://tile.loc.gov/storage-services/service/...</td>\n",
              "    </tr>\n",
              "    <tr>\n",
              "      <th>2</th>\n",
              "      <td>tgm012273</td>\n",
              "      <td>Cone-shaped exterior feature at the Museum of ...</td>\n",
              "      <td>Glass</td>\n",
              "      <td>https://www.loc.gov/pictures/item/2018699148/</td>\n",
              "      <td>https://tile.loc.gov/storage-services/service/...</td>\n",
              "    </tr>\n",
              "    <tr>\n",
              "      <th>3</th>\n",
              "      <td>tgm012273</td>\n",
              "      <td>Cone-shaped exterior feature at the Museum of ...</td>\n",
              "      <td>Glass</td>\n",
              "      <td>https://www.loc.gov/pictures/item/2018699154/</td>\n",
              "      <td>https://tile.loc.gov/storage-services/service/...</td>\n",
              "    </tr>\n",
              "    <tr>\n",
              "      <th>4</th>\n",
              "      <td>tgm012273</td>\n",
              "      <td>[Library of Congress (Washington, D.C.). Leade...</td>\n",
              "      <td>Glass</td>\n",
              "      <td>https://www.loc.gov/pictures/item/2001695198/</td>\n",
              "      <td>https://tile.loc.gov/storage-services/service/...</td>\n",
              "    </tr>\n",
              "    <tr>\n",
              "      <th>...</th>\n",
              "      <td>...</td>\n",
              "      <td>...</td>\n",
              "      <td>...</td>\n",
              "      <td>...</td>\n",
              "      <td>...</td>\n",
              "    </tr>\n",
              "    <tr>\n",
              "      <th>309</th>\n",
              "      <td>tgm005206</td>\n",
              "      <td>[Women in ball gowns and men in military unifo...</td>\n",
              "      <td>Hugging</td>\n",
              "      <td>https://www.loc.gov/pictures/item/2014636865/</td>\n",
              "      <td>https://tile.loc.gov/storage-services/service/...</td>\n",
              "    </tr>\n",
              "    <tr>\n",
              "      <th>310</th>\n",
              "      <td>tgm005206</td>\n",
              "      <td>[Man wearing military uniform, holding rifle, ...</td>\n",
              "      <td>Hugging</td>\n",
              "      <td>https://www.loc.gov/pictures/item/2014636866/</td>\n",
              "      <td>https://tile.loc.gov/storage-services/service/...</td>\n",
              "    </tr>\n",
              "    <tr>\n",
              "      <th>311</th>\n",
              "      <td>tgm005206</td>\n",
              "      <td>[Hypnotist directing group of people to do unu...</td>\n",
              "      <td>Hugging</td>\n",
              "      <td>https://www.loc.gov/pictures/item/2014636869/</td>\n",
              "      <td>https://tile.loc.gov/storage-services/service/...</td>\n",
              "    </tr>\n",
              "    <tr>\n",
              "      <th>312</th>\n",
              "      <td>tgm005206</td>\n",
              "      <td>Bronson Howard's greater Shenandoah</td>\n",
              "      <td>Hugging</td>\n",
              "      <td>https://www.loc.gov/pictures/item/2014637152/</td>\n",
              "      <td>https://tile.loc.gov/storage-services/service/...</td>\n",
              "    </tr>\n",
              "    <tr>\n",
              "      <th>313</th>\n",
              "      <td>tgm005206</td>\n",
              "      <td>David Belasco's romantic play, The heart of Ma...</td>\n",
              "      <td>Hugging</td>\n",
              "      <td>https://www.loc.gov/pictures/item/2014637253/</td>\n",
              "      <td>https://tile.loc.gov/storage-services/service/...</td>\n",
              "    </tr>\n",
              "  </tbody>\n",
              "</table>\n",
              "<p>314 rows × 5 columns</p>\n",
              "</div>"
            ],
            "text/plain": [
              "            id  ...                                                url\n",
              "0    tgm012273  ...  https://tile.loc.gov/storage-services/service/...\n",
              "1    tgm012273  ...  https://tile.loc.gov/storage-services/service/...\n",
              "2    tgm012273  ...  https://tile.loc.gov/storage-services/service/...\n",
              "3    tgm012273  ...  https://tile.loc.gov/storage-services/service/...\n",
              "4    tgm012273  ...  https://tile.loc.gov/storage-services/service/...\n",
              "..         ...  ...                                                ...\n",
              "309  tgm005206  ...  https://tile.loc.gov/storage-services/service/...\n",
              "310  tgm005206  ...  https://tile.loc.gov/storage-services/service/...\n",
              "311  tgm005206  ...  https://tile.loc.gov/storage-services/service/...\n",
              "312  tgm005206  ...  https://tile.loc.gov/storage-services/service/...\n",
              "313  tgm005206  ...  https://tile.loc.gov/storage-services/service/...\n",
              "\n",
              "[314 rows x 5 columns]"
            ]
          },
          "metadata": {
            "tags": []
          },
          "execution_count": 6
        }
      ]
    },
    {
      "cell_type": "code",
      "metadata": {
        "id": "jmtKyr-lBlua"
      },
      "source": [
        "df['urlhash'] = pd.util.hash_pandas_object(df.url, index=False)"
      ],
      "execution_count": null,
      "outputs": []
    },
    {
      "cell_type": "code",
      "metadata": {
        "id": "9vZClQ9dBGND"
      },
      "source": [
        "Path(path/'loc-images-labels').mkdir(exist_ok=True)\n",
        "save_path = Path(path/'loc-images-labels')"
      ],
      "execution_count": null,
      "outputs": []
    },
    {
      "cell_type": "code",
      "metadata": {
        "id": "hvIT4ixNA5qJ"
      },
      "source": [
        "def download_image(row, path=save_path):\n",
        "    url = row.url\n",
        "    hash = row.urlhash\n",
        "    ext = url.split('.')[-1]\n",
        "    fpath = f'{path}/{hash}.{ext}'\n",
        "    if not Path(fpath).is_file():\n",
        "        try:\n",
        "            r = httpx.get(url, timeout=30)\n",
        "            im = Image.open(io.BytesIO(r.content))\n",
        "            im.save(fpath)\n",
        "            return fpath         \n",
        "        except Exception as e:\n",
        "            logger.exception(e)\n",
        "    else:\n",
        "        pass"
      ],
      "execution_count": null,
      "outputs": []
    },
    {
      "cell_type": "code",
      "metadata": {
        "colab": {
          "base_uri": "https://localhost:8080/",
          "height": 67,
          "referenced_widgets": [
            "7af3b42ff1a341efb82602a296a232a5",
            "ccfed1582ee5477c90b195890a4b3cba",
            "03f9f842063b4fecbe268dea3e4a0368",
            "28227e4be45643dc8ebaa2ddc0a27477",
            "a803dc6266ec46a491a084e37a20f660",
            "fe584913acbe47449dbf085ee833a1b9",
            "892ce1845a5a4292b49499d21b0be63b",
            "21cb3916cfa4475fa2009d8a6ebc795f"
          ]
        },
        "id": "kU1lAc4dBoRO",
        "outputId": "10cf0d00-cac2-424b-8a5b-04b9d0349773"
      },
      "source": [
        "df['dl_fpath'] = df.progress_apply(download_image, axis=1)"
      ],
      "execution_count": null,
      "outputs": [
        {
          "output_type": "display_data",
          "data": {
            "application/vnd.jupyter.widget-view+json": {
              "model_id": "7af3b42ff1a341efb82602a296a232a5",
              "version_minor": 0,
              "version_major": 2
            },
            "text/plain": [
              "HBox(children=(FloatProgress(value=0.0, max=314.0), HTML(value='')))"
            ]
          },
          "metadata": {
            "tags": []
          }
        },
        {
          "output_type": "stream",
          "text": [
            "\n"
          ],
          "name": "stdout"
        }
      ]
    },
    {
      "cell_type": "code",
      "metadata": {
        "id": "51dDN441B6qu"
      },
      "source": [
        "df.to_csv(path/'loc-images-labels.csv')"
      ],
      "execution_count": null,
      "outputs": []
    }
  ]
}